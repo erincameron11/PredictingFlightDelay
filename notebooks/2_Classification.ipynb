{
 "cells": [
  {
   "cell_type": "markdown",
   "metadata": {},
   "source": [
    "# Classification\n",
    "Erin Cameron  \n",
    "COSC3117  \n",
    "2022-11-21\n",
    "---"
   ]
  },
  {
   "cell_type": "code",
   "execution_count": 1,
   "metadata": {},
   "outputs": [],
   "source": [
    "# Import the scikit learn library\n",
    "# !pip3 install scikit-learn"
   ]
  },
  {
   "cell_type": "code",
   "execution_count": 308,
   "metadata": {},
   "outputs": [],
   "source": [
    "# Import statements\n",
    "import numpy as np\n",
    "import pandas as pd\n",
    "import seaborn as sns\n",
    "import matplotlib.pyplot as plt\n",
    "from sklearn import linear_model\n",
    "from sklearn.linear_model import LogisticRegression\n",
    "from sklearn.model_selection import train_test_split\n",
    "from sklearn.metrics import classification_report, accuracy_score\n",
    "from sklearn import preprocessing\n",
    "from sklearn.preprocessing import OrdinalEncoder\n",
    "from sklearn.naive_bayes import CategoricalNB\n",
    "from sklearn.preprocessing import OneHotEncoder\n",
    "from sklearn.ensemble import RandomForestClassifier\n",
    "from sklearn.inspection import permutation_importance"
   ]
  },
  {
   "cell_type": "markdown",
   "metadata": {},
   "source": [
    "# 1.0) Define ML train features\n",
    "\n",
    "~~I noticed a correlation (?) between flight departure times and the cancellation of flights... NOTE: therefore I decided to use continuous variables/features in the dataset to predict cancellation status, instead of discrete variables/features.~~ "
   ]
  },
  {
   "cell_type": "code",
   "execution_count": 11,
   "metadata": {},
   "outputs": [],
   "source": [
    "# conVar = [\"DepTime\", \n",
    "#           \"DepDelay\", \n",
    "#           \"DepDelayMinutes\", \n",
    "#           \"TaxiOut\",\n",
    "#           \"\"]\n",
    "\n",
    "features = [\"Airline\", \n",
    "              \"OriginStateName\", \n",
    "              \"OriginCityName\", \n",
    "              \"DestCityName\", \n",
    "              \"DestStateName\", \n",
    "              \"Year\", \n",
    "              \"Quarter\", \n",
    "              \"Month\", \n",
    "              \"DayofMonth\", \n",
    "              \"DayOfWeek\", \n",
    "              \"Distance\",\n",
    "              \"CRSDepTime\"\n",
    "             ]"
   ]
  },
  {
   "cell_type": "code",
   "execution_count": 12,
   "metadata": {},
   "outputs": [],
   "source": [
    "predClass = [\"Cancelled\"]"
   ]
  },
  {
   "cell_type": "markdown",
   "metadata": {},
   "source": [
    "# 2.0) Format and Load Dataset"
   ]
  },
  {
   "cell_type": "code",
   "execution_count": 13,
   "metadata": {},
   "outputs": [
    {
     "name": "stdout",
     "output_type": "stream",
     "text": [
      "Reading in data...\n"
     ]
    }
   ],
   "source": [
    "# Read in the merged csv file\n",
    "data = pd.read_csv(\"../data/FlightStatusData_Merged_AllYears_20221114.csv\")\n",
    "print(\"Reading in data...\")"
   ]
  },
  {
   "cell_type": "code",
   "execution_count": 14,
   "metadata": {},
   "outputs": [
    {
     "data": {
      "text/html": [
       "<div>\n",
       "<style scoped>\n",
       "    .dataframe tbody tr th:only-of-type {\n",
       "        vertical-align: middle;\n",
       "    }\n",
       "\n",
       "    .dataframe tbody tr th {\n",
       "        vertical-align: top;\n",
       "    }\n",
       "\n",
       "    .dataframe thead th {\n",
       "        text-align: right;\n",
       "    }\n",
       "</style>\n",
       "<table border=\"1\" class=\"dataframe\">\n",
       "  <thead>\n",
       "    <tr style=\"text-align: right;\">\n",
       "      <th></th>\n",
       "      <th>Airline</th>\n",
       "      <th>OriginStateName</th>\n",
       "      <th>OriginCityName</th>\n",
       "      <th>DestCityName</th>\n",
       "      <th>DestStateName</th>\n",
       "      <th>Year</th>\n",
       "      <th>Quarter</th>\n",
       "      <th>Month</th>\n",
       "      <th>DayofMonth</th>\n",
       "      <th>DayOfWeek</th>\n",
       "      <th>Distance</th>\n",
       "      <th>CRSDepTime</th>\n",
       "      <th>Cancelled</th>\n",
       "    </tr>\n",
       "  </thead>\n",
       "  <tbody>\n",
       "    <tr>\n",
       "      <th>0</th>\n",
       "      <td>Delta Air Lines Inc.</td>\n",
       "      <td>Minnesota</td>\n",
       "      <td>Minneapolis, MN</td>\n",
       "      <td>Washington, DC</td>\n",
       "      <td>Virginia</td>\n",
       "      <td>2018</td>\n",
       "      <td>4</td>\n",
       "      <td>10</td>\n",
       "      <td>6</td>\n",
       "      <td>6</td>\n",
       "      <td>931.0</td>\n",
       "      <td>1255</td>\n",
       "      <td>False</td>\n",
       "    </tr>\n",
       "    <tr>\n",
       "      <th>1</th>\n",
       "      <td>Republic Airlines</td>\n",
       "      <td>Minnesota</td>\n",
       "      <td>Minneapolis, MN</td>\n",
       "      <td>Newark, NJ</td>\n",
       "      <td>New Jersey</td>\n",
       "      <td>2018</td>\n",
       "      <td>4</td>\n",
       "      <td>10</td>\n",
       "      <td>12</td>\n",
       "      <td>5</td>\n",
       "      <td>1008.0</td>\n",
       "      <td>605</td>\n",
       "      <td>False</td>\n",
       "    </tr>\n",
       "    <tr>\n",
       "      <th>2</th>\n",
       "      <td>United Air Lines Inc.</td>\n",
       "      <td>California</td>\n",
       "      <td>Los Angeles, CA</td>\n",
       "      <td>Denver, CO</td>\n",
       "      <td>Colorado</td>\n",
       "      <td>2018</td>\n",
       "      <td>4</td>\n",
       "      <td>11</td>\n",
       "      <td>26</td>\n",
       "      <td>1</td>\n",
       "      <td>862.0</td>\n",
       "      <td>1047</td>\n",
       "      <td>False</td>\n",
       "    </tr>\n",
       "    <tr>\n",
       "      <th>3</th>\n",
       "      <td>Mesa Airlines Inc.</td>\n",
       "      <td>Kentucky</td>\n",
       "      <td>Louisville, KY</td>\n",
       "      <td>Washington, DC</td>\n",
       "      <td>Virginia</td>\n",
       "      <td>2018</td>\n",
       "      <td>4</td>\n",
       "      <td>11</td>\n",
       "      <td>16</td>\n",
       "      <td>5</td>\n",
       "      <td>451.0</td>\n",
       "      <td>1445</td>\n",
       "      <td>False</td>\n",
       "    </tr>\n",
       "    <tr>\n",
       "      <th>4</th>\n",
       "      <td>Delta Air Lines Inc.</td>\n",
       "      <td>Minnesota</td>\n",
       "      <td>Minneapolis, MN</td>\n",
       "      <td>Salt Lake City, UT</td>\n",
       "      <td>Utah</td>\n",
       "      <td>2018</td>\n",
       "      <td>1</td>\n",
       "      <td>1</td>\n",
       "      <td>26</td>\n",
       "      <td>5</td>\n",
       "      <td>991.0</td>\n",
       "      <td>1730</td>\n",
       "      <td>False</td>\n",
       "    </tr>\n",
       "  </tbody>\n",
       "</table>\n",
       "</div>"
      ],
      "text/plain": [
       "                 Airline OriginStateName   OriginCityName        DestCityName  \\\n",
       "0   Delta Air Lines Inc.       Minnesota  Minneapolis, MN      Washington, DC   \n",
       "1      Republic Airlines       Minnesota  Minneapolis, MN          Newark, NJ   \n",
       "2  United Air Lines Inc.      California  Los Angeles, CA          Denver, CO   \n",
       "3     Mesa Airlines Inc.        Kentucky   Louisville, KY      Washington, DC   \n",
       "4   Delta Air Lines Inc.       Minnesota  Minneapolis, MN  Salt Lake City, UT   \n",
       "\n",
       "  DestStateName  Year  Quarter  Month  DayofMonth  DayOfWeek  Distance  \\\n",
       "0      Virginia  2018        4     10           6          6     931.0   \n",
       "1    New Jersey  2018        4     10          12          5    1008.0   \n",
       "2      Colorado  2018        4     11          26          1     862.0   \n",
       "3      Virginia  2018        4     11          16          5     451.0   \n",
       "4          Utah  2018        1      1          26          5     991.0   \n",
       "\n",
       "   CRSDepTime  Cancelled  \n",
       "0        1255      False  \n",
       "1         605      False  \n",
       "2        1047      False  \n",
       "3        1445      False  \n",
       "4        1730      False  "
      ]
     },
     "execution_count": 14,
     "metadata": {},
     "output_type": "execute_result"
    }
   ],
   "source": [
    "# Subset data to relevent discrete variables and prediction class\n",
    "data = data[features + predClass]\n",
    "data.head()"
   ]
  },
  {
   "cell_type": "code",
   "execution_count": 15,
   "metadata": {},
   "outputs": [],
   "source": [
    "# Updated cancellation status to True = 1, False = 0\n",
    "data[\"Cancelled\"] = data[\"Cancelled\"].map({True: 1, False: 0})"
   ]
  },
  {
   "cell_type": "code",
   "execution_count": 16,
   "metadata": {},
   "outputs": [
    {
     "data": {
      "text/plain": [
       "0    388873\n",
       "1     11127\n",
       "Name: Cancelled, dtype: int64"
      ]
     },
     "execution_count": 16,
     "metadata": {},
     "output_type": "execute_result"
    }
   ],
   "source": [
    "# Check number of cancelled flights\n",
    "data[\"Cancelled\"].value_counts()"
   ]
  },
  {
   "cell_type": "code",
   "execution_count": 17,
   "metadata": {},
   "outputs": [
    {
     "name": "stdout",
     "output_type": "stream",
     "text": [
      "Before dropping NAs...Cancellation Status Breakdown\n",
      "0    388873\n",
      "1     11127\n",
      "Name: Cancelled, dtype: int64\n",
      "(400000, 13)\n",
      "\n",
      "\n",
      "After dropping NAs...Cancellation Status Breakdown\n",
      "0    388873\n",
      "1     11127\n",
      "Name: Cancelled, dtype: int64\n",
      "(400000, 13)\n"
     ]
    }
   ],
   "source": [
    "# drop any columns that have missing values for variables (if applicable)\n",
    "print(\"Before dropping NAs...Cancellation Status Breakdown\")\n",
    "print(data[\"Cancelled\"].value_counts())\n",
    "print(data.shape)\n",
    "\n",
    "print(\"\\n\\nAfter dropping NAs...Cancellation Status Breakdown\")\n",
    "data = data.dropna()\n",
    "print(data[\"Cancelled\"].value_counts())\n",
    "print(data.shape)"
   ]
  },
  {
   "cell_type": "markdown",
   "metadata": {},
   "source": [
    "# 3.0) Split into Test and Train"
   ]
  },
  {
   "cell_type": "code",
   "execution_count": 18,
   "metadata": {},
   "outputs": [],
   "source": [
    "# Split the data into train and test\n",
    "train_data, test_data = train_test_split(data, test_size = 0.20, random_state = 123)"
   ]
  },
  {
   "cell_type": "code",
   "execution_count": 19,
   "metadata": {},
   "outputs": [
    {
     "name": "stdout",
     "output_type": "stream",
     "text": [
      "\n",
      "\n",
      "Training dataset....80% of original dataset\n",
      "(320000, 13)\n"
     ]
    },
    {
     "data": {
      "text/html": [
       "<div>\n",
       "<style scoped>\n",
       "    .dataframe tbody tr th:only-of-type {\n",
       "        vertical-align: middle;\n",
       "    }\n",
       "\n",
       "    .dataframe tbody tr th {\n",
       "        vertical-align: top;\n",
       "    }\n",
       "\n",
       "    .dataframe thead th {\n",
       "        text-align: right;\n",
       "    }\n",
       "</style>\n",
       "<table border=\"1\" class=\"dataframe\">\n",
       "  <thead>\n",
       "    <tr style=\"text-align: right;\">\n",
       "      <th></th>\n",
       "      <th>Airline</th>\n",
       "      <th>OriginStateName</th>\n",
       "      <th>OriginCityName</th>\n",
       "      <th>DestCityName</th>\n",
       "      <th>DestStateName</th>\n",
       "      <th>Year</th>\n",
       "      <th>Quarter</th>\n",
       "      <th>Month</th>\n",
       "      <th>DayofMonth</th>\n",
       "      <th>DayOfWeek</th>\n",
       "      <th>Distance</th>\n",
       "      <th>CRSDepTime</th>\n",
       "      <th>Cancelled</th>\n",
       "    </tr>\n",
       "  </thead>\n",
       "  <tbody>\n",
       "    <tr>\n",
       "      <th>43773</th>\n",
       "      <td>Southwest Airlines Co.</td>\n",
       "      <td>Texas</td>\n",
       "      <td>Houston, TX</td>\n",
       "      <td>New Orleans, LA</td>\n",
       "      <td>Louisiana</td>\n",
       "      <td>2018</td>\n",
       "      <td>2</td>\n",
       "      <td>6</td>\n",
       "      <td>1</td>\n",
       "      <td>5</td>\n",
       "      <td>302.0</td>\n",
       "      <td>1350</td>\n",
       "      <td>0</td>\n",
       "    </tr>\n",
       "    <tr>\n",
       "      <th>15146</th>\n",
       "      <td>Southwest Airlines Co.</td>\n",
       "      <td>Nevada</td>\n",
       "      <td>Las Vegas, NV</td>\n",
       "      <td>Seattle, WA</td>\n",
       "      <td>Washington</td>\n",
       "      <td>2018</td>\n",
       "      <td>3</td>\n",
       "      <td>7</td>\n",
       "      <td>4</td>\n",
       "      <td>3</td>\n",
       "      <td>867.0</td>\n",
       "      <td>1940</td>\n",
       "      <td>0</td>\n",
       "    </tr>\n",
       "    <tr>\n",
       "      <th>248689</th>\n",
       "      <td>ExpressJet Airlines Inc.</td>\n",
       "      <td>Texas</td>\n",
       "      <td>Houston, TX</td>\n",
       "      <td>Baton Rouge, LA</td>\n",
       "      <td>Louisiana</td>\n",
       "      <td>2020</td>\n",
       "      <td>3</td>\n",
       "      <td>8</td>\n",
       "      <td>16</td>\n",
       "      <td>7</td>\n",
       "      <td>253.0</td>\n",
       "      <td>1020</td>\n",
       "      <td>0</td>\n",
       "    </tr>\n",
       "    <tr>\n",
       "      <th>130971</th>\n",
       "      <td>GoJet Airlines, LLC d/b/a United Express</td>\n",
       "      <td>Michigan</td>\n",
       "      <td>Detroit, MI</td>\n",
       "      <td>Elmira/Corning, NY</td>\n",
       "      <td>New York</td>\n",
       "      <td>2019</td>\n",
       "      <td>2</td>\n",
       "      <td>5</td>\n",
       "      <td>11</td>\n",
       "      <td>6</td>\n",
       "      <td>332.0</td>\n",
       "      <td>856</td>\n",
       "      <td>0</td>\n",
       "    </tr>\n",
       "    <tr>\n",
       "      <th>166558</th>\n",
       "      <td>United Air Lines Inc.</td>\n",
       "      <td>New Jersey</td>\n",
       "      <td>Newark, NJ</td>\n",
       "      <td>Denver, CO</td>\n",
       "      <td>Colorado</td>\n",
       "      <td>2019</td>\n",
       "      <td>1</td>\n",
       "      <td>3</td>\n",
       "      <td>24</td>\n",
       "      <td>7</td>\n",
       "      <td>1605.0</td>\n",
       "      <td>1005</td>\n",
       "      <td>0</td>\n",
       "    </tr>\n",
       "  </tbody>\n",
       "</table>\n",
       "</div>"
      ],
      "text/plain": [
       "                                         Airline OriginStateName  \\\n",
       "43773                     Southwest Airlines Co.           Texas   \n",
       "15146                     Southwest Airlines Co.          Nevada   \n",
       "248689                  ExpressJet Airlines Inc.           Texas   \n",
       "130971  GoJet Airlines, LLC d/b/a United Express        Michigan   \n",
       "166558                     United Air Lines Inc.      New Jersey   \n",
       "\n",
       "       OriginCityName        DestCityName DestStateName  Year  Quarter  Month  \\\n",
       "43773     Houston, TX     New Orleans, LA     Louisiana  2018        2      6   \n",
       "15146   Las Vegas, NV         Seattle, WA    Washington  2018        3      7   \n",
       "248689    Houston, TX     Baton Rouge, LA     Louisiana  2020        3      8   \n",
       "130971    Detroit, MI  Elmira/Corning, NY      New York  2019        2      5   \n",
       "166558     Newark, NJ          Denver, CO      Colorado  2019        1      3   \n",
       "\n",
       "        DayofMonth  DayOfWeek  Distance  CRSDepTime  Cancelled  \n",
       "43773            1          5     302.0        1350          0  \n",
       "15146            4          3     867.0        1940          0  \n",
       "248689          16          7     253.0        1020          0  \n",
       "130971          11          6     332.0         856          0  \n",
       "166558          24          7    1605.0        1005          0  "
      ]
     },
     "metadata": {},
     "output_type": "display_data"
    },
    {
     "name": "stdout",
     "output_type": "stream",
     "text": [
      "\n",
      "\n",
      "Test dataset....20% of original dataset\n",
      "(80000, 13)\n"
     ]
    },
    {
     "data": {
      "text/html": [
       "<div>\n",
       "<style scoped>\n",
       "    .dataframe tbody tr th:only-of-type {\n",
       "        vertical-align: middle;\n",
       "    }\n",
       "\n",
       "    .dataframe tbody tr th {\n",
       "        vertical-align: top;\n",
       "    }\n",
       "\n",
       "    .dataframe thead th {\n",
       "        text-align: right;\n",
       "    }\n",
       "</style>\n",
       "<table border=\"1\" class=\"dataframe\">\n",
       "  <thead>\n",
       "    <tr style=\"text-align: right;\">\n",
       "      <th></th>\n",
       "      <th>Airline</th>\n",
       "      <th>OriginStateName</th>\n",
       "      <th>OriginCityName</th>\n",
       "      <th>DestCityName</th>\n",
       "      <th>DestStateName</th>\n",
       "      <th>Year</th>\n",
       "      <th>Quarter</th>\n",
       "      <th>Month</th>\n",
       "      <th>DayofMonth</th>\n",
       "      <th>DayOfWeek</th>\n",
       "      <th>Distance</th>\n",
       "      <th>CRSDepTime</th>\n",
       "      <th>Cancelled</th>\n",
       "    </tr>\n",
       "  </thead>\n",
       "  <tbody>\n",
       "    <tr>\n",
       "      <th>386128</th>\n",
       "      <td>United Air Lines Inc.</td>\n",
       "      <td>California</td>\n",
       "      <td>San Francisco, CA</td>\n",
       "      <td>Denver, CO</td>\n",
       "      <td>Colorado</td>\n",
       "      <td>2021</td>\n",
       "      <td>4</td>\n",
       "      <td>11</td>\n",
       "      <td>17</td>\n",
       "      <td>3</td>\n",
       "      <td>967.0</td>\n",
       "      <td>900</td>\n",
       "      <td>0</td>\n",
       "    </tr>\n",
       "    <tr>\n",
       "      <th>297944</th>\n",
       "      <td>ExpressJet Airlines Inc.</td>\n",
       "      <td>Louisiana</td>\n",
       "      <td>Lake Charles, LA</td>\n",
       "      <td>Houston, TX</td>\n",
       "      <td>Texas</td>\n",
       "      <td>2020</td>\n",
       "      <td>3</td>\n",
       "      <td>7</td>\n",
       "      <td>31</td>\n",
       "      <td>5</td>\n",
       "      <td>127.0</td>\n",
       "      <td>1745</td>\n",
       "      <td>0</td>\n",
       "    </tr>\n",
       "    <tr>\n",
       "      <th>164196</th>\n",
       "      <td>Southwest Airlines Co.</td>\n",
       "      <td>Nevada</td>\n",
       "      <td>Las Vegas, NV</td>\n",
       "      <td>Oakland, CA</td>\n",
       "      <td>California</td>\n",
       "      <td>2019</td>\n",
       "      <td>1</td>\n",
       "      <td>3</td>\n",
       "      <td>6</td>\n",
       "      <td>3</td>\n",
       "      <td>407.0</td>\n",
       "      <td>1440</td>\n",
       "      <td>0</td>\n",
       "    </tr>\n",
       "    <tr>\n",
       "      <th>76962</th>\n",
       "      <td>United Air Lines Inc.</td>\n",
       "      <td>Florida</td>\n",
       "      <td>Miami, FL</td>\n",
       "      <td>Chicago, IL</td>\n",
       "      <td>Illinois</td>\n",
       "      <td>2018</td>\n",
       "      <td>1</td>\n",
       "      <td>1</td>\n",
       "      <td>29</td>\n",
       "      <td>1</td>\n",
       "      <td>1197.0</td>\n",
       "      <td>1550</td>\n",
       "      <td>0</td>\n",
       "    </tr>\n",
       "    <tr>\n",
       "      <th>52185</th>\n",
       "      <td>Southwest Airlines Co.</td>\n",
       "      <td>California</td>\n",
       "      <td>Sacramento, CA</td>\n",
       "      <td>Los Angeles, CA</td>\n",
       "      <td>California</td>\n",
       "      <td>2018</td>\n",
       "      <td>4</td>\n",
       "      <td>10</td>\n",
       "      <td>25</td>\n",
       "      <td>4</td>\n",
       "      <td>373.0</td>\n",
       "      <td>700</td>\n",
       "      <td>0</td>\n",
       "    </tr>\n",
       "  </tbody>\n",
       "</table>\n",
       "</div>"
      ],
      "text/plain": [
       "                         Airline OriginStateName     OriginCityName  \\\n",
       "386128     United Air Lines Inc.      California  San Francisco, CA   \n",
       "297944  ExpressJet Airlines Inc.       Louisiana   Lake Charles, LA   \n",
       "164196    Southwest Airlines Co.          Nevada      Las Vegas, NV   \n",
       "76962      United Air Lines Inc.         Florida          Miami, FL   \n",
       "52185     Southwest Airlines Co.      California     Sacramento, CA   \n",
       "\n",
       "           DestCityName DestStateName  Year  Quarter  Month  DayofMonth  \\\n",
       "386128       Denver, CO      Colorado  2021        4     11          17   \n",
       "297944      Houston, TX         Texas  2020        3      7          31   \n",
       "164196      Oakland, CA    California  2019        1      3           6   \n",
       "76962       Chicago, IL      Illinois  2018        1      1          29   \n",
       "52185   Los Angeles, CA    California  2018        4     10          25   \n",
       "\n",
       "        DayOfWeek  Distance  CRSDepTime  Cancelled  \n",
       "386128          3     967.0         900          0  \n",
       "297944          5     127.0        1745          0  \n",
       "164196          3     407.0        1440          0  \n",
       "76962           1    1197.0        1550          0  \n",
       "52185           4     373.0         700          0  "
      ]
     },
     "metadata": {},
     "output_type": "display_data"
    }
   ],
   "source": [
    "# Check that train and test are correct size\n",
    "print(\"\\n\\nTraining dataset....80% of original dataset\")\n",
    "print(train_data.shape)\n",
    "display(train_data.head())\n",
    "\n",
    "print(\"\\n\\nTest dataset....20% of original dataset\")\n",
    "print(test_data.shape)\n",
    "display(test_data.head())"
   ]
  },
  {
   "cell_type": "markdown",
   "metadata": {},
   "source": [
    "# 4.0) Logistic Regression"
   ]
  },
  {
   "cell_type": "markdown",
   "metadata": {},
   "source": [
    "## 4.1) Data preparation\n",
    "\n",
    "For categorical/discrete variables, we need to convert into an interger based column to be compatible with logistic regression function.\n",
    "\n",
    "https://medium.com/@curryrowan/simplified-logistic-regression-classification-with-categorical-variables-in-python-1ce50c4b137\n",
    "\n"
   ]
  },
  {
   "cell_type": "code",
   "execution_count": 27,
   "metadata": {},
   "outputs": [],
   "source": [
    "# format the categorical datas into binaries within each class\n",
    "cats = [\"Airline\", \"OriginStateName\", \"OriginCityName\", \n",
    "        \"DestCityName\", \"DestStateName\", \"Year\",\n",
    "        \"Quarter\", \"Month\", \"DayofMonth\", \"DayOfWeek\"\n",
    "       ]"
   ]
  },
  {
   "cell_type": "code",
   "execution_count": 28,
   "metadata": {},
   "outputs": [],
   "source": [
    "# convert categories into binary columns for each class within categorical variable\n",
    "train_new_df = {}\n",
    "test_new_df = {}\n",
    "\n",
    "for cat in cats:\n",
    "    train_data[cat] = train_data[cat].astype(str)\n",
    "    train_new_df[cat] = pd.get_dummies(train_data[cat], prefix = cat + \"_\")\n",
    "    \n",
    "    test_data[cat] = test_data[cat].astype(str)\n",
    "    test_new_df[cat] = pd.get_dummies(test_data[cat], prefix = cat + \"_\")\n",
    "    "
   ]
  },
  {
   "cell_type": "code",
   "execution_count": 66,
   "metadata": {},
   "outputs": [],
   "source": [
    "# combine data into 1 df\n",
    "test_data_lr = pd.concat(test_new_df.values(), axis = 1)\n",
    "train_data_lr = pd.concat(train_new_df.values(), axis = 1)"
   ]
  },
  {
   "cell_type": "code",
   "execution_count": 67,
   "metadata": {},
   "outputs": [
    {
     "name": "stdout",
     "output_type": "stream",
     "text": [
      "===> Adding DestCityName__Wilmington, DE to 'test_data_lr'....\n",
      "===> Adding OriginCityName__Rota, TT to 'test_data_lr'....\n",
      "===> Adding DestCityName__Rota, TT to 'test_data_lr'....\n",
      "===> Adding DestCityName__Gustavus, AK to 'test_data_lr'....\n",
      "===> Adding OriginCityName__Pago Pago, TT to 'test_data_lr'....\n",
      "===> Adding OriginStateName__Delaware to 'test_data_lr'....\n",
      "===> Adding OriginCityName__Bishop, CA to 'test_data_lr'....\n",
      "===> Adding OriginCityName__Fort Dodge, IA to 'test_data_lr'....\n",
      "===> Adding DestStateName__Delaware to 'test_data_lr'....\n",
      "===> Adding OriginCityName__Mason City, IA to 'test_data_lr'....\n",
      "===> Adding DestCityName__Fort Leonard Wood, MO to 'train_data_lr'....\n",
      "===> Adding OriginCityName__Wilmington, DE to 'test_data_lr'....\n",
      "===> Adding OriginCityName__Hyannis, MA to 'test_data_lr'....\n",
      "===> Adding OriginCityName__Ogden, UT to 'test_data_lr'....\n",
      "===> Adding DestCityName__Cold Bay, AK to 'test_data_lr'....\n",
      "===> Adding DestCityName__Mason City, IA to 'test_data_lr'....\n",
      "===> Adding DestCityName__Branson, MO to 'test_data_lr'....\n"
     ]
    }
   ],
   "source": [
    "# make sure test and train dataframe have the same columns in the same order\n",
    "# if one column is NOT in one of the dfs, add it and fill with 0s\n",
    "missing_cols = list(set(test_data_lr.columns) ^ set(train_data_lr.columns))\n",
    "\n",
    "for mCol in missing_cols:\n",
    "    \n",
    "    if mCol not in train_data_lr.columns:\n",
    "        print(\"===> Adding \" + mCol + \" to 'train_data_lr'....\")\n",
    "        train_data_lr[mCol] = 0\n",
    "        \n",
    "    if mCol not in test_data_lr.columns:\n",
    "        print(\"===> Adding \" + mCol + \" to 'test_data_lr'....\")\n",
    "        test_data_lr[mCol] = 0"
   ]
  },
  {
   "cell_type": "code",
   "execution_count": 70,
   "metadata": {},
   "outputs": [],
   "source": [
    "# reorder columns to be the same in train and test\n",
    "test_data_lr = test_data_lr[train_data_lr.columns]"
   ]
  },
  {
   "cell_type": "code",
   "execution_count": 71,
   "metadata": {},
   "outputs": [],
   "source": [
    "# add on continuous and prediction class (Cancelled) variabled\n",
    "test_data_lr = test_data_lr.merge(test_data[[\"Distance\", \"CRSDepTime\", \"Cancelled\"]], \n",
    "                                  left_index = True, \n",
    "                                  right_index = True\n",
    "                                 )\n",
    "train_data_lr = train_data_lr.merge(train_data[[\"Distance\", \"CRSDepTime\", \"Cancelled\"]], \n",
    "                                      left_index = True, \n",
    "                                      right_index = True\n",
    "                                     )\n",
    "\n"
   ]
  },
  {
   "cell_type": "markdown",
   "metadata": {},
   "source": [
    "## 4.2) Build model & predict\n",
    "\n",
    "https://medium.com/@curryrowan/simplified-logistic-regression-classification-with-categorical-variables-in-python-1ce50c4b137"
   ]
  },
  {
   "cell_type": "code",
   "execution_count": 89,
   "metadata": {},
   "outputs": [],
   "source": [
    "# where X is sparse array of training data with feature,\n",
    "# and Y is the classes (canceleld 0/1) for each entry in training data\n",
    "# X = np.array(train_data_lr.iloc[:, :-1])\n",
    "X = train_data_lr.iloc[:, :-1]\n",
    "y = np.array(train_data_lr[\"Cancelled\"])"
   ]
  },
  {
   "cell_type": "code",
   "execution_count": 90,
   "metadata": {},
   "outputs": [
    {
     "name": "stderr",
     "output_type": "stream",
     "text": [
      "[Parallel(n_jobs=1)]: Using backend SequentialBackend with 1 concurrent workers.\n",
      "[Parallel(n_jobs=1)]: Done   1 out of   1 | elapsed:  1.4min finished\n"
     ]
    }
   ],
   "source": [
    "# fit the model on training data\n",
    "logReg = LogisticRegression(random_state=0, max_iter = 1000, verbose = True, class_weight = \"balanced\")\n",
    "logReg = logReg.fit(X, y)"
   ]
  },
  {
   "cell_type": "code",
   "execution_count": 91,
   "metadata": {},
   "outputs": [],
   "source": [
    "# predict cancelled status on testing data using model trained above\n",
    "predictions_logReg = logReg.predict(test_data_lr.iloc[:, :-1])"
   ]
  },
  {
   "cell_type": "code",
   "execution_count": 93,
   "metadata": {},
   "outputs": [
    {
     "data": {
      "text/plain": [
       "58000"
      ]
     },
     "metadata": {},
     "output_type": "display_data"
    },
    {
     "data": {
      "text/plain": [
       "22000"
      ]
     },
     "execution_count": 93,
     "metadata": {},
     "output_type": "execute_result"
    }
   ],
   "source": [
    "display(list(predictions_logReg).count(0))\n",
    "list(predictions_logReg).count(1)"
   ]
  },
  {
   "cell_type": "code",
   "execution_count": 180,
   "metadata": {},
   "outputs": [
    {
     "data": {
      "text/html": [
       "<div>\n",
       "<style scoped>\n",
       "    .dataframe tbody tr th:only-of-type {\n",
       "        vertical-align: middle;\n",
       "    }\n",
       "\n",
       "    .dataframe tbody tr th {\n",
       "        vertical-align: top;\n",
       "    }\n",
       "\n",
       "    .dataframe thead th {\n",
       "        text-align: right;\n",
       "    }\n",
       "</style>\n",
       "<table border=\"1\" class=\"dataframe\">\n",
       "  <thead>\n",
       "    <tr style=\"text-align: right;\">\n",
       "      <th></th>\n",
       "      <th>Method</th>\n",
       "      <th>Original Row Number</th>\n",
       "      <th>Actual Label</th>\n",
       "      <th>Predicited Label</th>\n",
       "    </tr>\n",
       "  </thead>\n",
       "  <tbody>\n",
       "    <tr>\n",
       "      <th>0</th>\n",
       "      <td>LogisticRegression</td>\n",
       "      <td>386128</td>\n",
       "      <td>0</td>\n",
       "      <td>0</td>\n",
       "    </tr>\n",
       "    <tr>\n",
       "      <th>1</th>\n",
       "      <td>LogisticRegression</td>\n",
       "      <td>297944</td>\n",
       "      <td>0</td>\n",
       "      <td>1</td>\n",
       "    </tr>\n",
       "    <tr>\n",
       "      <th>2</th>\n",
       "      <td>LogisticRegression</td>\n",
       "      <td>164196</td>\n",
       "      <td>0</td>\n",
       "      <td>1</td>\n",
       "    </tr>\n",
       "  </tbody>\n",
       "</table>\n",
       "</div>"
      ],
      "text/plain": [
       "               Method  Original Row Number  Actual Label  Predicited Label\n",
       "0  LogisticRegression               386128             0                 0\n",
       "1  LogisticRegression               297944             0                 1\n",
       "2  LogisticRegression               164196             0                 1"
      ]
     },
     "execution_count": 180,
     "metadata": {},
     "output_type": "execute_result"
    }
   ],
   "source": [
    "# save predictions\n",
    "prediction_results = test_data_lr[\"Cancelled\"].to_frame(\"Actual Label\")\n",
    "prediction_results = prediction_results.reset_index().rename(columns={\"index\": \"Original Row Number\"})\n",
    "prediction_results[\"Predicited Label\"] = predictions_logReg\n",
    "prediction_results.insert(0, \"Method\", \"LogisticRegression\")\n",
    "prediction_results.to_csv(\"../results/LogisiticRegression_Predictions.csv\")\n",
    "prediction_results.head(3)"
   ]
  },
  {
   "cell_type": "markdown",
   "metadata": {},
   "source": [
    "## 4.3) Evaluate model & predictions\n",
    "\n",
    "We are only 7% accurate for cancelled flights, despite accounting for it above, this might be related to the imbalanced frequency of cancelled vs not in our dataset. "
   ]
  },
  {
   "cell_type": "code",
   "execution_count": 263,
   "metadata": {},
   "outputs": [
    {
     "name": "stdout",
     "output_type": "stream",
     "text": [
      "              precision    recall  f1-score   support\n",
      "\n",
      "           0       0.99      0.74      0.84     77701\n",
      "           1       0.07      0.63      0.12      2299\n",
      "\n",
      "    accuracy                           0.73     80000\n",
      "   macro avg       0.53      0.68      0.48     80000\n",
      "weighted avg       0.96      0.73      0.82     80000\n",
      "\n"
     ]
    }
   ],
   "source": [
    "print(classification_report(test_data_lr[\"Cancelled\"], predictions_logReg))"
   ]
  },
  {
   "cell_type": "markdown",
   "metadata": {},
   "source": [
    "## 4.4) Assess feature importance\n",
    "\n",
    "Do all our features used in the logisitic regression contribute meaningful information when discerning cancelled vs not flights? To assess this, we can look at the coefficient score of each feature in our model. \n",
    "\n",
    "We have 952 features in our model\n",
    "\n",
    "Positive scores indicate a feature that predicts class 1, cancelled flight in our case. Negative scores indicate a feature is predictive of class 2, not cancelled in our case."
   ]
  },
  {
   "cell_type": "code",
   "execution_count": 118,
   "metadata": {},
   "outputs": [
    {
     "data": {
      "text/html": [
       "<div>\n",
       "<style scoped>\n",
       "    .dataframe tbody tr th:only-of-type {\n",
       "        vertical-align: middle;\n",
       "    }\n",
       "\n",
       "    .dataframe tbody tr th {\n",
       "        vertical-align: top;\n",
       "    }\n",
       "\n",
       "    .dataframe thead th {\n",
       "        text-align: right;\n",
       "    }\n",
       "</style>\n",
       "<table border=\"1\" class=\"dataframe\">\n",
       "  <thead>\n",
       "    <tr style=\"text-align: right;\">\n",
       "      <th></th>\n",
       "      <th>Feature Coefficient</th>\n",
       "    </tr>\n",
       "  </thead>\n",
       "  <tbody>\n",
       "    <tr>\n",
       "      <th>count</th>\n",
       "      <td>952.000000</td>\n",
       "    </tr>\n",
       "    <tr>\n",
       "      <th>mean</th>\n",
       "      <td>-0.002102</td>\n",
       "    </tr>\n",
       "    <tr>\n",
       "      <th>std</th>\n",
       "      <td>0.105679</td>\n",
       "    </tr>\n",
       "    <tr>\n",
       "      <th>min</th>\n",
       "      <td>-0.645643</td>\n",
       "    </tr>\n",
       "    <tr>\n",
       "      <th>25%</th>\n",
       "      <td>-0.013790</td>\n",
       "    </tr>\n",
       "    <tr>\n",
       "      <th>50%</th>\n",
       "      <td>-0.000900</td>\n",
       "    </tr>\n",
       "    <tr>\n",
       "      <th>75%</th>\n",
       "      <td>0.012684</td>\n",
       "    </tr>\n",
       "    <tr>\n",
       "      <th>max</th>\n",
       "      <td>1.305623</td>\n",
       "    </tr>\n",
       "  </tbody>\n",
       "</table>\n",
       "</div>"
      ],
      "text/plain": [
       "       Feature Coefficient\n",
       "count           952.000000\n",
       "mean             -0.002102\n",
       "std               0.105679\n",
       "min              -0.645643\n",
       "25%              -0.013790\n",
       "50%              -0.000900\n",
       "75%               0.012684\n",
       "max               1.305623"
      ]
     },
     "execution_count": 118,
     "metadata": {},
     "output_type": "execute_result"
    }
   ],
   "source": [
    "# get feature importance (aka coefficient)\n",
    "# higher absolute values mean the feature is more \"important\" \n",
    "# ...aka useful in telling classes (cancelled vs not) apart\n",
    "# coeffs close to 0 mean the feature is not very useful\n",
    "featCoeffs = logReg.coef_.flatten()\n",
    "featCoeffs = pd.DataFrame(featCoeffs, logReg.feature_names_in_).rename(columns={0: \"Feature Coefficient\"})\n",
    "featCoeffs.describe()"
   ]
  },
  {
   "cell_type": "code",
   "execution_count": 121,
   "metadata": {},
   "outputs": [
    {
     "data": {
      "image/png": "[encoded data removed]",
      "text/plain": [
       "<Figure size 432x288 with 1 Axes>"
      ]
     },
     "metadata": {
      "needs_background": "light"
     },
     "output_type": "display_data"
    }
   ],
   "source": [
    "# because we have so many features (n=952), first plot the distribution of feature coeffs across all features\n",
    "# sort values from high to low\n",
    "featCoeffs = featCoeffs.sort_values(\"Feature Coefficient\", ascending = False)\n",
    "plt.hist(featCoeffs[\"Feature Coefficient\"], bins = 200)\n",
    "plt.show()"
   ]
  },
  {
   "cell_type": "code",
   "execution_count": 156,
   "metadata": {},
   "outputs": [
    {
     "data": {
      "image/png": "[encoded data removed]",
      "text/plain": [
       "<Figure size 648x360 with 1 Axes>"
      ]
     },
     "metadata": {
      "needs_background": "light"
     },
     "output_type": "display_data"
    }
   ],
   "source": [
    "# plot the top 20 features predictie of cancelled flights (pos coeffs) and not cancelled flights (neg coeffs)\n",
    "nfeats = 20\n",
    "top_N = pd.concat([featCoeffs.head(nfeats),featCoeffs.tail(nfeats)])\n",
    "plt.figure(figsize = [9, 5])\n",
    "plt.bar(top_N.index, top_N[\"Feature Coefficient\"])\n",
    "plt.xticks(fontsize = 8, rotation = 90)\n",
    "plt.ylabel(\"Feature Coefficient\")\n",
    "plt.title(\"Coefficient Across Top and Bottom 20 Most Important Features\\n\\nPositive Values = Predicitive of Cancellation\\nNegative Values = Predictive of Not Cancelled\")\n",
    "plt.xlabel(\"Features, ranked by decreasing coefficient\")\n",
    "plt.show()"
   ]
  },
  {
   "cell_type": "code",
   "execution_count": 159,
   "metadata": {},
   "outputs": [
    {
     "data": {
      "text/html": [
       "<div>\n",
       "<style scoped>\n",
       "    .dataframe tbody tr th:only-of-type {\n",
       "        vertical-align: middle;\n",
       "    }\n",
       "\n",
       "    .dataframe tbody tr th {\n",
       "        vertical-align: top;\n",
       "    }\n",
       "\n",
       "    .dataframe thead th {\n",
       "        text-align: right;\n",
       "    }\n",
       "</style>\n",
       "<table border=\"1\" class=\"dataframe\">\n",
       "  <thead>\n",
       "    <tr style=\"text-align: right;\">\n",
       "      <th></th>\n",
       "      <th>Method</th>\n",
       "      <th>Feature</th>\n",
       "      <th>Feature Coefficient</th>\n",
       "    </tr>\n",
       "  </thead>\n",
       "  <tbody>\n",
       "    <tr>\n",
       "      <th>0</th>\n",
       "      <td>LogisticRegression</td>\n",
       "      <td>Month__4</td>\n",
       "      <td>1.305623</td>\n",
       "    </tr>\n",
       "    <tr>\n",
       "      <th>1</th>\n",
       "      <td>LogisticRegression</td>\n",
       "      <td>Month__3</td>\n",
       "      <td>0.871320</td>\n",
       "    </tr>\n",
       "    <tr>\n",
       "      <th>2</th>\n",
       "      <td>LogisticRegression</td>\n",
       "      <td>DayofMonth__31</td>\n",
       "      <td>0.629113</td>\n",
       "    </tr>\n",
       "    <tr>\n",
       "      <th>3</th>\n",
       "      <td>LogisticRegression</td>\n",
       "      <td>Airline__Allegiant Air</td>\n",
       "      <td>0.576556</td>\n",
       "    </tr>\n",
       "    <tr>\n",
       "      <th>4</th>\n",
       "      <td>LogisticRegression</td>\n",
       "      <td>Year__2020</td>\n",
       "      <td>0.466339</td>\n",
       "    </tr>\n",
       "    <tr>\n",
       "      <th>...</th>\n",
       "      <td>...</td>\n",
       "      <td>...</td>\n",
       "      <td>...</td>\n",
       "    </tr>\n",
       "    <tr>\n",
       "      <th>947</th>\n",
       "      <td>LogisticRegression</td>\n",
       "      <td>Month__5</td>\n",
       "      <td>-0.498242</td>\n",
       "    </tr>\n",
       "    <tr>\n",
       "      <th>948</th>\n",
       "      <td>LogisticRegression</td>\n",
       "      <td>Month__11</td>\n",
       "      <td>-0.504762</td>\n",
       "    </tr>\n",
       "    <tr>\n",
       "      <th>949</th>\n",
       "      <td>LogisticRegression</td>\n",
       "      <td>Airline__United Air Lines Inc.</td>\n",
       "      <td>-0.534362</td>\n",
       "    </tr>\n",
       "    <tr>\n",
       "      <th>950</th>\n",
       "      <td>LogisticRegression</td>\n",
       "      <td>Airline__Delta Air Lines Inc.</td>\n",
       "      <td>-0.544672</td>\n",
       "    </tr>\n",
       "    <tr>\n",
       "      <th>951</th>\n",
       "      <td>LogisticRegression</td>\n",
       "      <td>Month__6</td>\n",
       "      <td>-0.645643</td>\n",
       "    </tr>\n",
       "  </tbody>\n",
       "</table>\n",
       "<p>952 rows × 3 columns</p>\n",
       "</div>"
      ],
      "text/plain": [
       "                 Method                         Feature  Feature Coefficient\n",
       "0    LogisticRegression                        Month__4             1.305623\n",
       "1    LogisticRegression                        Month__3             0.871320\n",
       "2    LogisticRegression                  DayofMonth__31             0.629113\n",
       "3    LogisticRegression          Airline__Allegiant Air             0.576556\n",
       "4    LogisticRegression                      Year__2020             0.466339\n",
       "..                  ...                             ...                  ...\n",
       "947  LogisticRegression                        Month__5            -0.498242\n",
       "948  LogisticRegression                       Month__11            -0.504762\n",
       "949  LogisticRegression  Airline__United Air Lines Inc.            -0.534362\n",
       "950  LogisticRegression   Airline__Delta Air Lines Inc.            -0.544672\n",
       "951  LogisticRegression                        Month__6            -0.645643\n",
       "\n",
       "[952 rows x 3 columns]"
      ]
     },
     "execution_count": 159,
     "metadata": {},
     "output_type": "execute_result"
    }
   ],
   "source": [
    "# save feature coeffs to file\n",
    "featCoeffs = featCoeffs.reset_index().rename(columns={\"index\":\"Feature\"})\n",
    "featCoeffs.insert(0, \"Method\", \"LogisticRegression\")\n",
    "featCoeffs.to_csv(\"../results/LogisiticRegression_FeatureImportance.csv\")\n",
    "featCoeffs.head()"
   ]
  },
  {
   "cell_type": "markdown",
   "metadata": {},
   "source": [
    "# 5.0) Naive Bayes\n",
    "\n",
    "https://www.kaggle.com/code/prashant111/naive-bayes-classifier-in-python\n",
    "\n",
    "From the logistic regression above, we know that the two continuous variables (CRSDeptTime & Flight distance) are not very useful in predicited value, we can either (1) exclude them or (2) trasform the continuous values into discrete values (ie, use tertiles to split flight distance into short, medium and long catgeories instead of continuous values). For now, lets exclude the two cont variables. \n",
    "\n",
    "1. Gaussian Naive Bayes --> continuous variables, not appropiate for this use case since we have mainly categorical\n",
    "2. Bernoulli Naïve Bayes --> boolean categorical vairables, this is most appropiate for our data\\\n",
    "\n",
    "\n",
    "https://scikit-learn.org/stable/modules/generated/sklearn.naive_bayes.CategoricalNB.html (bckground)\n",
    "https://www.datacamp.com/tutorial/naive-bayes-scikit-learn (tutorial)"
   ]
  },
  {
   "cell_type": "markdown",
   "metadata": {},
   "source": [
    "## 5.1) Encode categorical variables\n",
    "\n",
    "Need to convert string labels into numbers using scikit-learn LabelEncoder. do this on all the data, not train and test separately because then the cateogies might not line up after encoding. Can split into same train and test using the index after the encoding step. "
   ]
  },
  {
   "cell_type": "code",
   "execution_count": 221,
   "metadata": {},
   "outputs": [],
   "source": [
    "# define varaibles we want to use in bayes classifier\n",
    "# aka everythin except the continuous ones\n",
    "bayes_features = ['Airline', 'OriginStateName', 'OriginCityName', 'DestCityName',\n",
    "                 'DestStateName', 'Year', 'Quarter', 'Month', 'DayofMonth', 'DayOfWeek'\n",
    "                ]"
   ]
  },
  {
   "cell_type": "code",
   "execution_count": 222,
   "metadata": {},
   "outputs": [],
   "source": [
    "# # create labelEncoder\n",
    "# labelEncoder = preprocessing.LabelEncoder()\n",
    "\n",
    "# # Convert string labels into numbers\n",
    "# features_encoded = {}\n",
    "# for feat in bayes_features:\n",
    "#     features_encoded[feat] = labelEncoder.fit_transform(data[feat].astype(str))"
   ]
  },
  {
   "cell_type": "code",
   "execution_count": 228,
   "metadata": {},
   "outputs": [],
   "source": [
    "# use ordinal encoder to convert string labels into numbers\n",
    "data_encoded = OrdinalEncoder()\n",
    "data_encoded = data_encoded.fit_transform(data[bayes_features])"
   ]
  },
  {
   "cell_type": "code",
   "execution_count": 242,
   "metadata": {},
   "outputs": [
    {
     "data": {
      "text/plain": [
       "(320000, 10)"
      ]
     },
     "metadata": {},
     "output_type": "display_data"
    },
    {
     "data": {
      "text/plain": [
       "(80000, 10)"
      ]
     },
     "metadata": {},
     "output_type": "display_data"
    }
   ],
   "source": [
    "# split the encoded data into same test and train datasets used above in l.regression\n",
    "train_data_encoded = data_encoded[train_data.index]\n",
    "display(train_data_encoded.shape)\n",
    "\n",
    "test_data_encoded = data_encoded[test_data.index]\n",
    "display(test_data_encoded.shape)"
   ]
  },
  {
   "cell_type": "markdown",
   "metadata": {},
   "source": [
    "## 5.2) Build CategoricalNB model & predict\n",
    "\n",
    "https://scikit-learn.org/stable/modules/generated/sklearn.naive_bayes.CategoricalNB.html#sklearn.naive_bayes.CategoricalNB"
   ]
  },
  {
   "cell_type": "code",
   "execution_count": 256,
   "metadata": {},
   "outputs": [],
   "source": [
    "# initalize\n",
    "catNB = CategoricalNB()"
   ]
  },
  {
   "cell_type": "code",
   "execution_count": 257,
   "metadata": {},
   "outputs": [],
   "source": [
    "# fit model\n",
    "X = train_data_encoded\n",
    "y = np.array(train_data[\"Cancelled\"])\n",
    "catNB = catNB.fit(X, y)"
   ]
  },
  {
   "cell_type": "code",
   "execution_count": 258,
   "metadata": {},
   "outputs": [],
   "source": [
    "# predict on test values\n",
    "predictions_catNB = catNB.predict(test_data_encoded)"
   ]
  },
  {
   "cell_type": "code",
   "execution_count": 259,
   "metadata": {},
   "outputs": [
    {
     "data": {
      "text/plain": [
       "79701"
      ]
     },
     "metadata": {},
     "output_type": "display_data"
    },
    {
     "data": {
      "text/plain": [
       "299"
      ]
     },
     "execution_count": 259,
     "metadata": {},
     "output_type": "execute_result"
    }
   ],
   "source": [
    "display(list(predictions_catNB).count(0))\n",
    "list(predictions_catNB).count(1)"
   ]
  },
  {
   "cell_type": "code",
   "execution_count": 262,
   "metadata": {},
   "outputs": [
    {
     "data": {
      "text/html": [
       "<div>\n",
       "<style scoped>\n",
       "    .dataframe tbody tr th:only-of-type {\n",
       "        vertical-align: middle;\n",
       "    }\n",
       "\n",
       "    .dataframe tbody tr th {\n",
       "        vertical-align: top;\n",
       "    }\n",
       "\n",
       "    .dataframe thead th {\n",
       "        text-align: right;\n",
       "    }\n",
       "</style>\n",
       "<table border=\"1\" class=\"dataframe\">\n",
       "  <thead>\n",
       "    <tr style=\"text-align: right;\">\n",
       "      <th></th>\n",
       "      <th>Method</th>\n",
       "      <th>Original Row Number</th>\n",
       "      <th>Actual Label</th>\n",
       "      <th>Predicited Label</th>\n",
       "    </tr>\n",
       "  </thead>\n",
       "  <tbody>\n",
       "    <tr>\n",
       "      <th>0</th>\n",
       "      <td>Categorical Naive Bayes</td>\n",
       "      <td>386128</td>\n",
       "      <td>0</td>\n",
       "      <td>0</td>\n",
       "    </tr>\n",
       "    <tr>\n",
       "      <th>1</th>\n",
       "      <td>Categorical Naive Bayes</td>\n",
       "      <td>297944</td>\n",
       "      <td>0</td>\n",
       "      <td>0</td>\n",
       "    </tr>\n",
       "    <tr>\n",
       "      <th>2</th>\n",
       "      <td>Categorical Naive Bayes</td>\n",
       "      <td>164196</td>\n",
       "      <td>0</td>\n",
       "      <td>0</td>\n",
       "    </tr>\n",
       "  </tbody>\n",
       "</table>\n",
       "</div>"
      ],
      "text/plain": [
       "                    Method  Original Row Number  Actual Label  \\\n",
       "0  Categorical Naive Bayes               386128             0   \n",
       "1  Categorical Naive Bayes               297944             0   \n",
       "2  Categorical Naive Bayes               164196             0   \n",
       "\n",
       "   Predicited Label  \n",
       "0                 0  \n",
       "1                 0  \n",
       "2                 0  "
      ]
     },
     "execution_count": 262,
     "metadata": {},
     "output_type": "execute_result"
    }
   ],
   "source": [
    "# save predictions\n",
    "prediction_results = test_data[\"Cancelled\"].to_frame(\"Actual Label\")\n",
    "prediction_results = prediction_results.reset_index().rename(columns={\"index\": \"Original Row Number\"})\n",
    "prediction_results[\"Predicited Label\"] = predictions_catNB\n",
    "prediction_results.insert(0, \"Method\", \"Categorical Naive Bayes\")\n",
    "prediction_results.to_csv(\"../results/CategoricalNaiveBayes_Predictions.csv\")\n",
    "prediction_results.head(3)"
   ]
  },
  {
   "cell_type": "markdown",
   "metadata": {},
   "source": [
    "## 5.3) Evaluate model & predictions\n"
   ]
  },
  {
   "cell_type": "code",
   "execution_count": 268,
   "metadata": {},
   "outputs": [
    {
     "data": {
      "text/plain": [
       "0.970675"
      ]
     },
     "execution_count": 268,
     "metadata": {},
     "output_type": "execute_result"
    }
   ],
   "source": [
    "accuracy_score(test_data[\"Cancelled\"],  predictions_catNB)"
   ]
  },
  {
   "cell_type": "code",
   "execution_count": 264,
   "metadata": {},
   "outputs": [
    {
     "name": "stdout",
     "output_type": "stream",
     "text": [
      "              precision    recall  f1-score   support\n",
      "\n",
      "           0       0.97      1.00      0.99     77701\n",
      "           1       0.42      0.05      0.10      2299\n",
      "\n",
      "    accuracy                           0.97     80000\n",
      "   macro avg       0.70      0.53      0.54     80000\n",
      "weighted avg       0.96      0.97      0.96     80000\n",
      "\n"
     ]
    }
   ],
   "source": [
    "print(classification_report(test_data[\"Cancelled\"], predictions_catNB))"
   ]
  },
  {
   "cell_type": "markdown",
   "metadata": {},
   "source": [
    "# 6.0) Random Forest\n",
    "\n",
    "https://www.geeksforgeeks.org/random-forest-classifier-using-scikit-learn/\n",
    "\n",
    "https://datagy.io/sklearn-random-forests/ --> good example of RF on a dataset with continuous and categorical dataset\n",
    "\n",
    "Similar to logisitc regression, we need to \"one hot encode\" the categorical variables where we turn each value in a caolumn into its own boolean column. We use one hot because the values within a feature does not have a ranking relationship."
   ]
  },
  {
   "cell_type": "markdown",
   "metadata": {},
   "source": [
    "## 6.1) One-hot encode categorical features\n",
    "\n",
    "Already did this in logisitc regression section, reusing dfs here"
   ]
  },
  {
   "cell_type": "code",
   "execution_count": 274,
   "metadata": {},
   "outputs": [],
   "source": [
    "train_data_rf = train_data_lr\n",
    "test_data_rf = test_data_lr"
   ]
  },
  {
   "cell_type": "markdown",
   "metadata": {},
   "source": [
    "## 6.2) Build Random Forest model & predict\n",
    "\n",
    "https://datagy.io/sklearn-random-forests/"
   ]
  },
  {
   "cell_type": "code",
   "execution_count": 278,
   "metadata": {},
   "outputs": [],
   "source": [
    "# initiate model\n",
    "rf = RandomForestClassifier(n_estimators=100, random_state=100)"
   ]
  },
  {
   "cell_type": "code",
   "execution_count": 279,
   "metadata": {},
   "outputs": [
    {
     "data": {
      "text/html": [
       "<style>#sk-container-id-4 {color: black;background-color: white;}#sk-container-id-4 pre{padding: 0;}#sk-container-id-4 div.sk-toggleable {background-color: white;}#sk-container-id-4 label.sk-toggleable__label {cursor: pointer;display: block;width: 100%;margin-bottom: 0;padding: 0.3em;box-sizing: border-box;text-align: center;}#sk-container-id-4 label.sk-toggleable__label-arrow:before {content: \"▸\";float: left;margin-right: 0.25em;color: #696969;}#sk-container-id-4 label.sk-toggleable__label-arrow:hover:before {color: black;}#sk-container-id-4 div.sk-estimator:hover label.sk-toggleable__label-arrow:before {color: black;}#sk-container-id-4 div.sk-toggleable__content {max-height: 0;max-width: 0;overflow: hidden;text-align: left;background-color: #f0f8ff;}#sk-container-id-4 div.sk-toggleable__content pre {margin: 0.2em;color: black;border-radius: 0.25em;background-color: #f0f8ff;}#sk-container-id-4 input.sk-toggleable__control:checked~div.sk-toggleable__content {max-height: 200px;max-width: 100%;overflow: auto;}#sk-container-id-4 input.sk-toggleable__control:checked~label.sk-toggleable__label-arrow:before {content: \"▾\";}#sk-container-id-4 div.sk-estimator input.sk-toggleable__control:checked~label.sk-toggleable__label {background-color: #d4ebff;}#sk-container-id-4 div.sk-label input.sk-toggleable__control:checked~label.sk-toggleable__label {background-color: #d4ebff;}#sk-container-id-4 input.sk-hidden--visually {border: 0;clip: rect(1px 1px 1px 1px);clip: rect(1px, 1px, 1px, 1px);height: 1px;margin: -1px;overflow: hidden;padding: 0;position: absolute;width: 1px;}#sk-container-id-4 div.sk-estimator {font-family: monospace;background-color: #f0f8ff;border: 1px dotted black;border-radius: 0.25em;box-sizing: border-box;margin-bottom: 0.5em;}#sk-container-id-4 div.sk-estimator:hover {background-color: #d4ebff;}#sk-container-id-4 div.sk-parallel-item::after {content: \"\";width: 100%;border-bottom: 1px solid gray;flex-grow: 1;}#sk-container-id-4 div.sk-label:hover label.sk-toggleable__label {background-color: #d4ebff;}#sk-container-id-4 div.sk-serial::before {content: \"\";position: absolute;border-left: 1px solid gray;box-sizing: border-box;top: 0;bottom: 0;left: 50%;z-index: 0;}#sk-container-id-4 div.sk-serial {display: flex;flex-direction: column;align-items: center;background-color: white;padding-right: 0.2em;padding-left: 0.2em;position: relative;}#sk-container-id-4 div.sk-item {position: relative;z-index: 1;}#sk-container-id-4 div.sk-parallel {display: flex;align-items: stretch;justify-content: center;background-color: white;position: relative;}#sk-container-id-4 div.sk-item::before, #sk-container-id-4 div.sk-parallel-item::before {content: \"\";position: absolute;border-left: 1px solid gray;box-sizing: border-box;top: 0;bottom: 0;left: 50%;z-index: -1;}#sk-container-id-4 div.sk-parallel-item {display: flex;flex-direction: column;z-index: 1;position: relative;background-color: white;}#sk-container-id-4 div.sk-parallel-item:first-child::after {align-self: flex-end;width: 50%;}#sk-container-id-4 div.sk-parallel-item:last-child::after {align-self: flex-start;width: 50%;}#sk-container-id-4 div.sk-parallel-item:only-child::after {width: 0;}#sk-container-id-4 div.sk-dashed-wrapped {border: 1px dashed gray;margin: 0 0.4em 0.5em 0.4em;box-sizing: border-box;padding-bottom: 0.4em;background-color: white;}#sk-container-id-4 div.sk-label label {font-family: monospace;font-weight: bold;display: inline-block;line-height: 1.2em;}#sk-container-id-4 div.sk-label-container {text-align: center;}#sk-container-id-4 div.sk-container {/* jupyter's `normalize.less` sets `[hidden] { display: none; }` but bootstrap.min.css set `[hidden] { display: none !important; }` so we also need the `!important` here to be able to override the default hidden behavior on the sphinx rendered scikit-learn.org. See: https://github.com/scikit-learn/scikit-learn/issues/21755 */display: inline-block !important;position: relative;}#sk-container-id-4 div.sk-text-repr-fallback {display: none;}</style><div id=\"sk-container-id-4\" class=\"sk-top-container\"><div class=\"sk-text-repr-fallback\"><pre>RandomForestClassifier(random_state=100)</pre><b>In a Jupyter environment, please rerun this cell to show the HTML representation or trust the notebook. <br />On GitHub, the HTML representation is unable to render, please try loading this page with nbviewer.org.</b></div><div class=\"sk-container\" hidden><div class=\"sk-item\"><div class=\"sk-estimator sk-toggleable\"><input class=\"sk-toggleable__control sk-hidden--visually\" id=\"sk-estimator-id-4\" type=\"checkbox\" checked><label for=\"sk-estimator-id-4\" class=\"sk-toggleable__label sk-toggleable__label-arrow\">RandomForestClassifier</label><div class=\"sk-toggleable__content\"><pre>RandomForestClassifier(random_state=100)</pre></div></div></div></div></div>"
      ],
      "text/plain": [
       "RandomForestClassifier(random_state=100)"
      ]
     },
     "execution_count": 279,
     "metadata": {},
     "output_type": "execute_result"
    }
   ],
   "source": [
    "# fit model on training data\n",
    "X = train_data_rf.iloc[:, :-1]\n",
    "y = np.array(train_data_rf[\"Cancelled\"])\n",
    "rf.fit(X, y)"
   ]
  },
  {
   "cell_type": "code",
   "execution_count": 280,
   "metadata": {},
   "outputs": [],
   "source": [
    "# predict on testing data\n",
    "predictions_rf = rf.predict(test_data_rf.iloc[:, :-1])"
   ]
  },
  {
   "cell_type": "code",
   "execution_count": 281,
   "metadata": {},
   "outputs": [
    {
     "data": {
      "text/plain": [
       "79555"
      ]
     },
     "metadata": {},
     "output_type": "display_data"
    },
    {
     "data": {
      "text/plain": [
       "445"
      ]
     },
     "execution_count": 281,
     "metadata": {},
     "output_type": "execute_result"
    }
   ],
   "source": [
    "# quick look at the predictions\n",
    "display(list(predictions_rf).count(0))\n",
    "list(predictions_rf).count(1)"
   ]
  },
  {
   "cell_type": "code",
   "execution_count": 282,
   "metadata": {},
   "outputs": [
    {
     "data": {
      "text/html": [
       "<div>\n",
       "<style scoped>\n",
       "    .dataframe tbody tr th:only-of-type {\n",
       "        vertical-align: middle;\n",
       "    }\n",
       "\n",
       "    .dataframe tbody tr th {\n",
       "        vertical-align: top;\n",
       "    }\n",
       "\n",
       "    .dataframe thead th {\n",
       "        text-align: right;\n",
       "    }\n",
       "</style>\n",
       "<table border=\"1\" class=\"dataframe\">\n",
       "  <thead>\n",
       "    <tr style=\"text-align: right;\">\n",
       "      <th></th>\n",
       "      <th>Method</th>\n",
       "      <th>Original Row Number</th>\n",
       "      <th>Actual Label</th>\n",
       "      <th>Predicited Label</th>\n",
       "    </tr>\n",
       "  </thead>\n",
       "  <tbody>\n",
       "    <tr>\n",
       "      <th>0</th>\n",
       "      <td>RandomForest</td>\n",
       "      <td>386128</td>\n",
       "      <td>0</td>\n",
       "      <td>0</td>\n",
       "    </tr>\n",
       "    <tr>\n",
       "      <th>1</th>\n",
       "      <td>RandomForest</td>\n",
       "      <td>297944</td>\n",
       "      <td>0</td>\n",
       "      <td>0</td>\n",
       "    </tr>\n",
       "    <tr>\n",
       "      <th>2</th>\n",
       "      <td>RandomForest</td>\n",
       "      <td>164196</td>\n",
       "      <td>0</td>\n",
       "      <td>0</td>\n",
       "    </tr>\n",
       "  </tbody>\n",
       "</table>\n",
       "</div>"
      ],
      "text/plain": [
       "         Method  Original Row Number  Actual Label  Predicited Label\n",
       "0  RandomForest               386128             0                 0\n",
       "1  RandomForest               297944             0                 0\n",
       "2  RandomForest               164196             0                 0"
      ]
     },
     "execution_count": 282,
     "metadata": {},
     "output_type": "execute_result"
    }
   ],
   "source": [
    "# save predictions\n",
    "# save predictions\n",
    "prediction_results = test_data_rf[\"Cancelled\"].to_frame(\"Actual Label\")\n",
    "prediction_results = prediction_results.reset_index().rename(columns={\"index\": \"Original Row Number\"})\n",
    "prediction_results[\"Predicited Label\"] = predictions_rf\n",
    "prediction_results.insert(0, \"Method\", \"RandomForest\")\n",
    "prediction_results.to_csv(\"../results/RandomForest_Predictions.csv\")\n",
    "prediction_results.head(3)"
   ]
  },
  {
   "cell_type": "markdown",
   "metadata": {},
   "source": [
    "## 6.3) Evaluate model and predictions \n"
   ]
  },
  {
   "cell_type": "code",
   "execution_count": 283,
   "metadata": {},
   "outputs": [
    {
     "name": "stdout",
     "output_type": "stream",
     "text": [
      "              precision    recall  f1-score   support\n",
      "\n",
      "           0       0.97      1.00      0.99     77701\n",
      "           1       0.61      0.12      0.20      2299\n",
      "\n",
      "    accuracy                           0.97     80000\n",
      "   macro avg       0.79      0.56      0.59     80000\n",
      "weighted avg       0.96      0.97      0.96     80000\n",
      "\n"
     ]
    }
   ],
   "source": [
    "print(classification_report(test_data_rf[\"Cancelled\"], predictions_rf))"
   ]
  },
  {
   "cell_type": "markdown",
   "metadata": {},
   "source": [
    "# 6.4) Feature importance\n",
    "\n",
    "https://scikit-learn.org/stable/auto_examples/ensemble/plot_forest_importances.html\n",
    "\n",
    "Two ways to assess feature importance of random forest: (1) mean decrease in impurity and (2) permutation. "
   ]
  },
  {
   "cell_type": "markdown",
   "metadata": {},
   "source": [
    "### 6.4.1) Mean decrease in impurity"
   ]
  },
  {
   "cell_type": "code",
   "execution_count": 285,
   "metadata": {},
   "outputs": [],
   "source": [
    "# get importances and standard deviation from our RF model\n",
    "importances = rf.feature_importances_\n",
    "std = np.std([tree.feature_importances_ for tree in rf.estimators_], axis=0)"
   ]
  },
  {
   "cell_type": "code",
   "execution_count": 303,
   "metadata": {},
   "outputs": [
    {
     "data": {
      "text/html": [
       "<div>\n",
       "<style scoped>\n",
       "    .dataframe tbody tr th:only-of-type {\n",
       "        vertical-align: middle;\n",
       "    }\n",
       "\n",
       "    .dataframe tbody tr th {\n",
       "        vertical-align: top;\n",
       "    }\n",
       "\n",
       "    .dataframe thead th {\n",
       "        text-align: right;\n",
       "    }\n",
       "</style>\n",
       "<table border=\"1\" class=\"dataframe\">\n",
       "  <thead>\n",
       "    <tr style=\"text-align: right;\">\n",
       "      <th></th>\n",
       "      <th>FeatureImportance_MDI</th>\n",
       "      <th>std</th>\n",
       "    </tr>\n",
       "  </thead>\n",
       "  <tbody>\n",
       "    <tr>\n",
       "      <th>Airline__Air Wisconsin Airlines Corp</th>\n",
       "      <td>0.001798</td>\n",
       "      <td>0.000440</td>\n",
       "    </tr>\n",
       "    <tr>\n",
       "      <th>Airline__Alaska Airlines Inc.</th>\n",
       "      <td>0.001839</td>\n",
       "      <td>0.000527</td>\n",
       "    </tr>\n",
       "    <tr>\n",
       "      <th>Airline__Allegiant Air</th>\n",
       "      <td>0.002795</td>\n",
       "      <td>0.001101</td>\n",
       "    </tr>\n",
       "  </tbody>\n",
       "</table>\n",
       "</div>"
      ],
      "text/plain": [
       "                                      FeatureImportance_MDI       std\n",
       "Airline__Air Wisconsin Airlines Corp               0.001798  0.000440\n",
       "Airline__Alaska Airlines Inc.                      0.001839  0.000527\n",
       "Airline__Allegiant Air                             0.002795  0.001101"
      ]
     },
     "execution_count": 303,
     "metadata": {},
     "output_type": "execute_result"
    }
   ],
   "source": [
    "# turn into data frame\n",
    "rf_importances = rf_importances.to_frame(\"FeatureImportance_MDI\")\n",
    "rf_importances[\"std\"] = std\n",
    "rf_importances.head(3)"
   ]
  },
  {
   "cell_type": "code",
   "execution_count": 305,
   "metadata": {},
   "outputs": [],
   "source": [
    "# # plot\n",
    "rf_importances = pd.Series(importances, index=rf.feature_names_in_)\n",
    "# fig, ax = plt.subplots()\n",
    "# rf_importances.plot.bar(yerr=std, ax=ax)\n",
    "# ax.set_title(\"Feature importances using MDI\")\n",
    "# ax.set_ylabel(\"Mean decrease in impurity\")\n",
    "# fig.tight_layout()"
   ]
  },
  {
   "cell_type": "code",
   "execution_count": 306,
   "metadata": {},
   "outputs": [
    {
     "data": {
      "text/html": [
       "<div>\n",
       "<style scoped>\n",
       "    .dataframe tbody tr th:only-of-type {\n",
       "        vertical-align: middle;\n",
       "    }\n",
       "\n",
       "    .dataframe tbody tr th {\n",
       "        vertical-align: top;\n",
       "    }\n",
       "\n",
       "    .dataframe thead th {\n",
       "        text-align: right;\n",
       "    }\n",
       "</style>\n",
       "<table border=\"1\" class=\"dataframe\">\n",
       "  <thead>\n",
       "    <tr style=\"text-align: right;\">\n",
       "      <th></th>\n",
       "      <th>Method</th>\n",
       "      <th>Feature</th>\n",
       "      <th>FeatureImportance_MDI</th>\n",
       "      <th>std</th>\n",
       "    </tr>\n",
       "  </thead>\n",
       "  <tbody>\n",
       "    <tr>\n",
       "      <th>0</th>\n",
       "      <td>RandomForest_MDI</td>\n",
       "      <td>Airline__Air Wisconsin Airlines Corp</td>\n",
       "      <td>0.001798</td>\n",
       "      <td>0.000440</td>\n",
       "    </tr>\n",
       "    <tr>\n",
       "      <th>1</th>\n",
       "      <td>RandomForest_MDI</td>\n",
       "      <td>Airline__Alaska Airlines Inc.</td>\n",
       "      <td>0.001839</td>\n",
       "      <td>0.000527</td>\n",
       "    </tr>\n",
       "    <tr>\n",
       "      <th>2</th>\n",
       "      <td>RandomForest_MDI</td>\n",
       "      <td>Airline__Allegiant Air</td>\n",
       "      <td>0.002795</td>\n",
       "      <td>0.001101</td>\n",
       "    </tr>\n",
       "    <tr>\n",
       "      <th>3</th>\n",
       "      <td>RandomForest_MDI</td>\n",
       "      <td>Airline__American Airlines Inc.</td>\n",
       "      <td>0.007006</td>\n",
       "      <td>0.001343</td>\n",
       "    </tr>\n",
       "    <tr>\n",
       "      <th>4</th>\n",
       "      <td>RandomForest_MDI</td>\n",
       "      <td>Airline__Cape Air</td>\n",
       "      <td>0.000001</td>\n",
       "      <td>0.000009</td>\n",
       "    </tr>\n",
       "  </tbody>\n",
       "</table>\n",
       "</div>"
      ],
      "text/plain": [
       "             Method                               Feature  \\\n",
       "0  RandomForest_MDI  Airline__Air Wisconsin Airlines Corp   \n",
       "1  RandomForest_MDI         Airline__Alaska Airlines Inc.   \n",
       "2  RandomForest_MDI                Airline__Allegiant Air   \n",
       "3  RandomForest_MDI       Airline__American Airlines Inc.   \n",
       "4  RandomForest_MDI                     Airline__Cape Air   \n",
       "\n",
       "   FeatureImportance_MDI       std  \n",
       "0               0.001798  0.000440  \n",
       "1               0.001839  0.000527  \n",
       "2               0.002795  0.001101  \n",
       "3               0.007006  0.001343  \n",
       "4               0.000001  0.000009  "
      ]
     },
     "execution_count": 306,
     "metadata": {},
     "output_type": "execute_result"
    }
   ],
   "source": [
    "# save feature coeffs to file\n",
    "rf_importances = rf_importances.reset_index().rename(columns={\"index\":\"Feature\"})\n",
    "rf_importances.insert(0, \"Method\", \"RandomForest_MDI\")\n",
    "rf_importances.to_csv(\"../results/RandomForest_MDI_FeatureImportance.csv\")\n",
    "rf_importances.head()\n"
   ]
  },
  {
   "cell_type": "code",
   "execution_count": null,
   "metadata": {},
   "outputs": [],
   "source": [
    "# perm_importances = pd.Series(result.importances_mean, index=rf.feature_names_in_)"
   ]
  },
  {
   "cell_type": "code",
   "execution_count": 310,
   "metadata": {},
   "outputs": [],
   "source": [
    "# save feature coeffs to file\n",
    "# perm_importances = perm_importances.reset_index().rename(columns={\"index\":\"Feature\"})\n",
    "# perm_importances.insert(0, \"Method\", \"RandomForest_Permutation\")\n",
    "# # perm_importances.to_csv(\"../results/RandomForest_per_FeatureImportance.csv\")\n",
    "# perm_importances.head()"
   ]
  },
  {
   "cell_type": "code",
   "execution_count": null,
   "metadata": {},
   "outputs": [],
   "source": []
  },
  {
   "cell_type": "code",
   "execution_count": null,
   "metadata": {},
   "outputs": [],
   "source": []
  },
  {
   "cell_type": "markdown",
   "metadata": {},
   "source": [
    "# Next....evaluate and compare classifiers\n",
    "> accuracy, recall, precision, ROC, AUC, confusion matrix,plotting"
   ]
  },
  {
   "cell_type": "code",
   "execution_count": null,
   "metadata": {},
   "outputs": [],
   "source": []
  }
 ],
 "metadata": {
  "kernelspec": {
   "display_name": "Python 3",
   "language": "python",
   "name": "python3"
  },
  "language_info": {
   "codemirror_mode": {
    "name": "ipython",
    "version": 3
   },
   "file_extension": ".py",
   "mimetype": "text/x-python",
   "name": "python",
   "nbconvert_exporter": "python",
   "pygments_lexer": "ipython3",
   "version": "3.9.1"
  }
 },
 "nbformat": 4,
 "nbformat_minor": 4
}
