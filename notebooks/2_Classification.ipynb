{
 "cells": [
  {
   "cell_type": "markdown",
   "metadata": {},
   "source": [
    "# Classification\n",
    "Erin Cameron  \n",
    "COSC3117  \n",
    "2022-11-21\n",
    "---"
   ]
  },
  {
   "cell_type": "markdown",
   "metadata": {},
   "source": [
    "# 1.0) Identify ML train features\n",
    "\n",
    "I noticed a correlation (?) between flight departure times and the cancellation of flights..."
   ]
  },
  {
   "cell_type": "code",
   "execution_count": 12,
   "metadata": {},
   "outputs": [],
   "source": [
    "# Import the scikit learn library\n",
    "# !pip3 install scikit-learn"
   ]
  },
  {
   "cell_type": "code",
   "execution_count": 52,
   "metadata": {},
   "outputs": [],
   "source": [
    "# Import statements\n",
    "import numpy as np\n",
    "import pandas as pd\n",
    "import sklearn"
   ]
  },
  {
   "cell_type": "code",
   "execution_count": 44,
   "metadata": {},
   "outputs": [],
   "source": [
    "# Read in the merged csv file\n",
    "data = pd.read_csv(\"../data/FlightStatusData_Merged_AllYears_20221114.csv\")"
   ]
  },
  {
   "cell_type": "code",
   "execution_count": 74,
   "metadata": {},
   "outputs": [],
   "source": [
    "# Make the X-value the whole merged dataframe\n",
    "X = data\n",
    "# Make the y-value a list from 1-5,000,000 (the size of the dataframe rows)\n",
    "y = range(0, data.shape[0])\n",
    "\n",
    "# Call the train_test_split function on the X and y values\n",
    "X_train, X_test, y_train, y_test = sklearn.model_selection.train_test_split(X, y, test_size = 0.80, random_state = 1)"
   ]
  },
  {
   "cell_type": "code",
   "execution_count": 75,
   "metadata": {},
   "outputs": [
    {
     "name": "stdout",
     "output_type": "stream",
     "text": [
      "X_test ==>           Unnamed: 0  FlightDate                                    Airline  \\\n",
      "1903699     1903699  2019-06-04                                  Envoy Air   \n",
      "1139078     1139078  2019-01-17                          Republic Airlines   \n",
      "1466517     1466517  2019-02-08                     American Airlines Inc.   \n",
      "1723903     1723903  2019-03-19                       Delta Air Lines Inc.   \n",
      "4876944     4876944  2022-02-24  Commutair Aka Champlain Enterprises, Inc.   \n",
      "\n",
      "        Origin Dest  Cancelled  Diverted  CRSDepTime  DepTime  \\\n",
      "1903699    TLH  DFW      False     False        1806   1759.0   \n",
      "1139078    ORD  ATL      False     False         745    739.0   \n",
      "1466517    PHL  PVD      False     False        1850   1843.0   \n",
      "1723903    ATL  LAX      False     False         725    729.0   \n",
      "4876944    IAH  ECP      False     False        1008   1000.0   \n",
      "\n",
      "         DepDelayMinutes  ...  WheelsOff  WheelsOn  TaxiIn  CRSArrTime  \\\n",
      "1903699              0.0  ...     1809.0    1909.0    13.0        1934   \n",
      "1139078              0.0  ...      826.0    1056.0    10.0        1051   \n",
      "1466517              0.0  ...     1905.0    1945.0     3.0        2003   \n",
      "1723903              4.0  ...      740.0     914.0     7.0         931   \n",
      "4876944              0.0  ...     1029.0    1143.0     2.0        1156   \n",
      "\n",
      "         ArrDelay  ArrDel15  ArrivalDelayGroups  ArrTimeBlk  DistanceGroup  \\\n",
      "1903699     -12.0       0.0                -1.0   1900-1959              4   \n",
      "1139078      15.0       1.0                 1.0   1000-1059              3   \n",
      "1466517     -15.0       0.0                -1.0   2000-2059              1   \n",
      "1723903     -10.0       0.0                -1.0   0900-0959              8   \n",
      "4876944     -11.0       0.0                -1.0   1100-1159              3   \n",
      "\n",
      "         DivAirportLandings  \n",
      "1903699                 0.0  \n",
      "1139078                 0.0  \n",
      "1466517                 0.0  \n",
      "1723903                 0.0  \n",
      "4876944                 0.0  \n",
      "\n",
      "[5 rows x 62 columns]\n",
      "X_train ==>           Unnamed: 0  FlightDate                                   Airline  \\\n",
      "2916373     2916373  2020-02-16                      Delta Air Lines Inc.   \n",
      "2411440     2411440  2020-08-29                    Southwest Airlines Co.   \n",
      "1107674     1107674  2019-07-16                    American Airlines Inc.   \n",
      "733456       733456  2018-11-01  GoJet Airlines, LLC d/b/a United Express   \n",
      "4708738     4708738  2022-07-24                     SkyWest Airlines Inc.   \n",
      "\n",
      "        Origin Dest  Cancelled  Diverted  CRSDepTime  DepTime  \\\n",
      "2916373    ATL  BHM      False     False        2237   2233.0   \n",
      "2411440    LAX  PHX      False     False         630    627.0   \n",
      "1107674    SEA  DFW       True     False        1759      NaN   \n",
      "733456     ORD  SYR      False     False         910    906.0   \n",
      "4708738    DEN  SHR      False     False         830    829.0   \n",
      "\n",
      "         DepDelayMinutes  ...  WheelsOff  WheelsOn  TaxiIn  CRSArrTime  \\\n",
      "2916373              0.0  ...     2253.0    2226.0     3.0        2230   \n",
      "2411440              0.0  ...      638.0     736.0     3.0         755   \n",
      "1107674              NaN  ...        NaN       NaN     NaN        2356   \n",
      "733456               0.0  ...      930.0    1151.0     4.0        1155   \n",
      "4708738              0.0  ...      844.0     948.0     7.0         944   \n",
      "\n",
      "         ArrDelay  ArrDel15  ArrivalDelayGroups  ArrTimeBlk  DistanceGroup  \\\n",
      "2916373      -1.0       0.0                -1.0   2200-2259              1   \n",
      "2411440     -16.0       0.0                -2.0   0700-0759              2   \n",
      "1107674       NaN       NaN                 NaN   2300-2359              7   \n",
      "733456        0.0       0.0                 0.0   1100-1159              3   \n",
      "4708738      11.0       0.0                 0.0   0900-0959              2   \n",
      "\n",
      "         DivAirportLandings  \n",
      "2916373                 0.0  \n",
      "2411440                 0.0  \n",
      "1107674                 0.0  \n",
      "733456                  0.0  \n",
      "4708738                 0.0  \n",
      "\n",
      "[5 rows x 62 columns]\n"
     ]
    }
   ],
   "source": [
    "# Look at the dataframes\n",
    "print(\"X_test ==> \", X_test.head(), end=\"\\n\")\n",
    "print(\"X_train ==> \", X_train.head(), end=\"\\n\")"
   ]
  },
  {
   "cell_type": "code",
   "execution_count": 76,
   "metadata": {},
   "outputs": [
    {
     "name": "stdout",
     "output_type": "stream",
     "text": [
      "4000000\n",
      "1000000\n",
      "4000000\n",
      "1000000\n"
     ]
    }
   ],
   "source": [
    "# Take a look at the split in the data\n",
    "print(len(X_test))\n",
    "print(len(X_train))\n",
    "print(len(y_test))\n",
    "print(len(y_train))"
   ]
  },
  {
   "cell_type": "markdown",
   "metadata": {},
   "source": [
    "# 2.0) Machine Learning algorithms"
   ]
  },
  {
   "cell_type": "markdown",
   "metadata": {},
   "source": [
    "## 2.1) Apply Logistic Regression to the data"
   ]
  },
  {
   "cell_type": "code",
   "execution_count": null,
   "metadata": {},
   "outputs": [],
   "source": [
    "# Import relevant library\n",
    "from sklearn import linear_model"
   ]
  },
  {
   "cell_type": "code",
   "execution_count": null,
   "metadata": {},
   "outputs": [],
   "source": [
    "logReg = linear_model.LogisticRegression()\n"
   ]
  },
  {
   "cell_type": "markdown",
   "metadata": {},
   "source": [
    "## 2.2) Apply Random Forest to the data"
   ]
  },
  {
   "cell_type": "code",
   "execution_count": null,
   "metadata": {},
   "outputs": [],
   "source": []
  },
  {
   "cell_type": "markdown",
   "metadata": {},
   "source": [
    "## 2.3) Apply Naive Bayes' to the data"
   ]
  },
  {
   "cell_type": "code",
   "execution_count": null,
   "metadata": {},
   "outputs": [],
   "source": []
  },
  {
   "cell_type": "markdown",
   "metadata": {},
   "source": [
    "## 2.4) Apply Support Vector Machine to the data"
   ]
  },
  {
   "cell_type": "code",
   "execution_count": null,
   "metadata": {},
   "outputs": [],
   "source": []
  }
 ],
 "metadata": {
  "kernelspec": {
   "display_name": "Python 3",
   "language": "python",
   "name": "python3"
  },
  "language_info": {
   "codemirror_mode": {
    "name": "ipython",
    "version": 3
   },
   "file_extension": ".py",
   "mimetype": "text/x-python",
   "name": "python",
   "nbconvert_exporter": "python",
   "pygments_lexer": "ipython3",
   "version": "3.9.1"
  }
 },
 "nbformat": 4,
 "nbformat_minor": 4
}
