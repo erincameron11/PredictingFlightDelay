{
 "cells": [
  {
   "cell_type": "markdown",
   "metadata": {},
   "source": [
    "# Model Evaluation\n",
    "Erin Cameron  \n",
    "COSC3117  \n",
    "2022-11-28\n",
    "---"
   ]
  },
  {
   "cell_type": "code",
   "execution_count": 63,
   "metadata": {},
   "outputs": [],
   "source": [
    "# Import statements\n",
    "import os\n",
    "import numpy as np\n",
    "import pandas as pd\n",
    "import seaborn as sns\n",
    "import matplotlib.pyplot as plt \n",
    "from sklearn import metrics"
   ]
  },
  {
   "cell_type": "markdown",
   "metadata": {},
   "source": [
    "# 1.0) Load results from testing dataset\n",
    "\n",
    "In notebook 2, we ran Logistic Regression, Naive Bayes & Random Forest to predict if a flight is cancelled or not. We are loading the results from each algorithms' predicitions here. "
   ]
  },
  {
   "cell_type": "code",
   "execution_count": 7,
   "metadata": {},
   "outputs": [],
   "source": [
    "# specify results files & location\n",
    "results_path = \"../results/\"\n",
    "prediction_files = [\"RandomForest_Predictions.csv\", \n",
    "                    \"LogisiticRegression_Predictions.csv\",\n",
    "                    \"CategoricalNaiveBayes_Predictions.csv\"\n",
    "                   ]\n",
    "feature_files = [\"RandomForest_MDI_FeatureImportance.csv\",\n",
    "                 \"LogisiticRegression_FeatureImportance.csv\"\n",
    "                ]"
   ]
  },
  {
   "cell_type": "code",
   "execution_count": 20,
   "metadata": {},
   "outputs": [],
   "source": [
    "# store results in dictionaries, 1 for predictons and 1 for feature importance (if applicable for method)\n",
    "predictions = {}\n",
    "for file in prediction_files:\n",
    "    pred = pd.read_csv(results_path + file, index_col = 0)\n",
    "    predictions[pred[\"Method\"].unique()[0]] = pred\n",
    "\n",
    "features = {}\n",
    "for file in feature_files:\n",
    "    feat = pd.read_csv(results_path + file, index_col = 0)\n",
    "    features[feat[\"Method\"].unique()[0]] = feat"
   ]
  },
  {
   "cell_type": "markdown",
   "metadata": {},
   "source": [
    "# 2.0) Compare performance across classificaion algorithms\n",
    "\n",
    "accuracy, recall, precision, ROC, AUC, confusion matrix,plotting\n",
    "\n",
    "> https://scikit-learn.org/stable/modules/model_evaluation.html#balanced-accuracy-score\n",
    "> good for imbalanced datasets like ours, where we have way more not cancelled flights. average of recall for each class aka the macro-average of recall scores per class  \n",
    "  \n",
    "> macro vs. micro average: https://www.educative.io/answers/what-is-the-difference-between-micro-and-macro-averaging  \n",
    "\n",
    "> The Hamming loss is the fraction of labels that are incorrectly predicted: https://scikit-learn.org/stable/modules/generated/sklearn.metrics.hamming_loss.html#sklearn.metrics.hamming_loss"
   ]
  },
  {
   "cell_type": "markdown",
   "metadata": {},
   "source": [
    "## 2.1) Calculate evaluation metrics"
   ]
  },
  {
   "cell_type": "code",
   "execution_count": 132,
   "metadata": {},
   "outputs": [
    {
     "name": "stdout",
     "output_type": "stream",
     "text": [
      "\n",
      "\n",
      "\n",
      "************************************************************\n",
      "RandomForest\n",
      "************************************************************\n",
      "Remember: '0' = not cancelled, '1' = cancelled\n",
      "\n",
      "\n",
      "======= Confusion Matrix ======= \n",
      "\n"
     ]
    },
    {
     "data": {
      "text/html": [
       "<div>\n",
       "<style scoped>\n",
       "    .dataframe tbody tr th:only-of-type {\n",
       "        vertical-align: middle;\n",
       "    }\n",
       "\n",
       "    .dataframe tbody tr th {\n",
       "        vertical-align: top;\n",
       "    }\n",
       "\n",
       "    .dataframe thead th {\n",
       "        text-align: right;\n",
       "    }\n",
       "</style>\n",
       "<table border=\"1\" class=\"dataframe\">\n",
       "  <thead>\n",
       "    <tr style=\"text-align: right;\">\n",
       "      <th>Predicited Label</th>\n",
       "      <th>0</th>\n",
       "      <th>1</th>\n",
       "      <th>Num. Events</th>\n",
       "      <th>Prop. Correct</th>\n",
       "      <th>Prop. Incorrect</th>\n",
       "    </tr>\n",
       "    <tr>\n",
       "      <th>Actual Label</th>\n",
       "      <th></th>\n",
       "      <th></th>\n",
       "      <th></th>\n",
       "      <th></th>\n",
       "      <th></th>\n",
       "    </tr>\n",
       "  </thead>\n",
       "  <tbody>\n",
       "    <tr>\n",
       "      <th>0</th>\n",
       "      <td>77526</td>\n",
       "      <td>175</td>\n",
       "      <td>77701</td>\n",
       "      <td>0.998000</td>\n",
       "      <td>0.002000</td>\n",
       "    </tr>\n",
       "    <tr>\n",
       "      <th>1</th>\n",
       "      <td>2029</td>\n",
       "      <td>270</td>\n",
       "      <td>2299</td>\n",
       "      <td>0.117442</td>\n",
       "      <td>0.882558</td>\n",
       "    </tr>\n",
       "  </tbody>\n",
       "</table>\n",
       "</div>"
      ],
      "text/plain": [
       "Predicited Label      0    1  Num. Events  Prop. Correct  Prop. Incorrect\n",
       "Actual Label                                                             \n",
       "0                 77526  175        77701       0.998000         0.002000\n",
       "1                  2029  270         2299       0.117442         0.882558"
      ]
     },
     "metadata": {},
     "output_type": "display_data"
    },
    {
     "name": "stdout",
     "output_type": "stream",
     "text": [
      "\n",
      "\n"
     ]
    },
    {
     "data": {
      "image/png": "[encoded data removed]",
      "text/plain": [
       "<Figure size 432x288 with 2 Axes>"
      ]
     },
     "metadata": {
      "needs_background": "light"
     },
     "output_type": "display_data"
    },
    {
     "data": {
      "image/png": "[encoded data removed]",
      "text/plain": [
       "<Figure size 432x288 with 2 Axes>"
      ]
     },
     "metadata": {
      "needs_background": "light"
     },
     "output_type": "display_data"
    },
    {
     "name": "stdout",
     "output_type": "stream",
     "text": [
      "\n",
      "======= Performance metrics ======= \n",
      "\n",
      "Balanced Accuracy...0.5576\n",
      "Hamming Loss...0.02755\n",
      "Classification report...\n",
      "              precision    recall  f1-score   support\n",
      "\n",
      "           0       0.97      1.00      0.99     77701\n",
      "           1       0.61      0.12      0.20      2299\n",
      "\n",
      "    accuracy                           0.97     80000\n",
      "   macro avg       0.79      0.56      0.59     80000\n",
      "weighted avg       0.96      0.97      0.96     80000\n",
      "\n",
      "\n",
      "\n",
      "\n",
      "************************************************************\n",
      "LogisticRegression\n",
      "************************************************************\n",
      "Remember: '0' = not cancelled, '1' = cancelled\n",
      "\n",
      "\n",
      "======= Confusion Matrix ======= \n",
      "\n"
     ]
    },
    {
     "data": {
      "text/html": [
       "<div>\n",
       "<style scoped>\n",
       "    .dataframe tbody tr th:only-of-type {\n",
       "        vertical-align: middle;\n",
       "    }\n",
       "\n",
       "    .dataframe tbody tr th {\n",
       "        vertical-align: top;\n",
       "    }\n",
       "\n",
       "    .dataframe thead th {\n",
       "        text-align: right;\n",
       "    }\n",
       "</style>\n",
       "<table border=\"1\" class=\"dataframe\">\n",
       "  <thead>\n",
       "    <tr style=\"text-align: right;\">\n",
       "      <th>Predicited Label</th>\n",
       "      <th>0</th>\n",
       "      <th>1</th>\n",
       "      <th>Num. Events</th>\n",
       "      <th>Prop. Correct</th>\n",
       "      <th>Prop. Incorrect</th>\n",
       "    </tr>\n",
       "    <tr>\n",
       "      <th>Actual Label</th>\n",
       "      <th></th>\n",
       "      <th></th>\n",
       "      <th></th>\n",
       "      <th></th>\n",
       "      <th></th>\n",
       "    </tr>\n",
       "  </thead>\n",
       "  <tbody>\n",
       "    <tr>\n",
       "      <th>0</th>\n",
       "      <td>57141</td>\n",
       "      <td>20560</td>\n",
       "      <td>77701</td>\n",
       "      <td>0.735000</td>\n",
       "      <td>0.265000</td>\n",
       "    </tr>\n",
       "    <tr>\n",
       "      <th>1</th>\n",
       "      <td>859</td>\n",
       "      <td>1440</td>\n",
       "      <td>2299</td>\n",
       "      <td>0.626359</td>\n",
       "      <td>0.373641</td>\n",
       "    </tr>\n",
       "  </tbody>\n",
       "</table>\n",
       "</div>"
      ],
      "text/plain": [
       "Predicited Label      0      1  Num. Events  Prop. Correct  Prop. Incorrect\n",
       "Actual Label                                                               \n",
       "0                 57141  20560        77701       0.735000         0.265000\n",
       "1                   859   1440         2299       0.626359         0.373641"
      ]
     },
     "metadata": {},
     "output_type": "display_data"
    },
    {
     "name": "stdout",
     "output_type": "stream",
     "text": [
      "\n",
      "\n"
     ]
    },
    {
     "data": {
      "image/png": "[encoded data removed]",
      "text/plain": [
       "<Figure size 432x288 with 2 Axes>"
      ]
     },
     "metadata": {
      "needs_background": "light"
     },
     "output_type": "display_data"
    },
    {
     "data": {
      "image/png": "[encoded data removed]",
      "text/plain": [
       "<Figure size 432x288 with 2 Axes>"
      ]
     },
     "metadata": {
      "needs_background": "light"
     },
     "output_type": "display_data"
    },
    {
     "name": "stdout",
     "output_type": "stream",
     "text": [
      "\n",
      "======= Performance metrics ======= \n",
      "\n",
      "Balanced Accuracy...0.68088\n",
      "Hamming Loss...0.26774\n",
      "Classification report...\n",
      "              precision    recall  f1-score   support\n",
      "\n",
      "           0       0.99      0.74      0.84     77701\n",
      "           1       0.07      0.63      0.12      2299\n",
      "\n",
      "    accuracy                           0.73     80000\n",
      "   macro avg       0.53      0.68      0.48     80000\n",
      "weighted avg       0.96      0.73      0.82     80000\n",
      "\n",
      "\n",
      "\n",
      "\n",
      "************************************************************\n",
      "Categorical Naive Bayes\n",
      "************************************************************\n",
      "Remember: '0' = not cancelled, '1' = cancelled\n",
      "\n",
      "\n",
      "======= Confusion Matrix ======= \n",
      "\n"
     ]
    },
    {
     "data": {
      "text/html": [
       "<div>\n",
       "<style scoped>\n",
       "    .dataframe tbody tr th:only-of-type {\n",
       "        vertical-align: middle;\n",
       "    }\n",
       "\n",
       "    .dataframe tbody tr th {\n",
       "        vertical-align: top;\n",
       "    }\n",
       "\n",
       "    .dataframe thead th {\n",
       "        text-align: right;\n",
       "    }\n",
       "</style>\n",
       "<table border=\"1\" class=\"dataframe\">\n",
       "  <thead>\n",
       "    <tr style=\"text-align: right;\">\n",
       "      <th>Predicited Label</th>\n",
       "      <th>0</th>\n",
       "      <th>1</th>\n",
       "      <th>Num. Events</th>\n",
       "      <th>Prop. Correct</th>\n",
       "      <th>Prop. Incorrect</th>\n",
       "    </tr>\n",
       "    <tr>\n",
       "      <th>Actual Label</th>\n",
       "      <th></th>\n",
       "      <th></th>\n",
       "      <th></th>\n",
       "      <th></th>\n",
       "      <th></th>\n",
       "    </tr>\n",
       "  </thead>\n",
       "  <tbody>\n",
       "    <tr>\n",
       "      <th>0</th>\n",
       "      <td>77528</td>\n",
       "      <td>173</td>\n",
       "      <td>77701</td>\n",
       "      <td>0.998000</td>\n",
       "      <td>0.002000</td>\n",
       "    </tr>\n",
       "    <tr>\n",
       "      <th>1</th>\n",
       "      <td>2173</td>\n",
       "      <td>126</td>\n",
       "      <td>2299</td>\n",
       "      <td>0.054806</td>\n",
       "      <td>0.945194</td>\n",
       "    </tr>\n",
       "  </tbody>\n",
       "</table>\n",
       "</div>"
      ],
      "text/plain": [
       "Predicited Label      0    1  Num. Events  Prop. Correct  Prop. Incorrect\n",
       "Actual Label                                                             \n",
       "0                 77528  173        77701       0.998000         0.002000\n",
       "1                  2173  126         2299       0.054806         0.945194"
      ]
     },
     "metadata": {},
     "output_type": "display_data"
    },
    {
     "name": "stdout",
     "output_type": "stream",
     "text": [
      "\n",
      "\n"
     ]
    },
    {
     "data": {
      "image/png": "[encoded data removed]",
      "text/plain": [
       "<Figure size 432x288 with 2 Axes>"
      ]
     },
     "metadata": {
      "needs_background": "light"
     },
     "output_type": "display_data"
    },
    {
     "data": {
      "image/png": "[encoded data removed]",
      "text/plain": [
       "<Figure size 432x288 with 2 Axes>"
      ]
     },
     "metadata": {
      "needs_background": "light"
     },
     "output_type": "display_data"
    },
    {
     "name": "stdout",
     "output_type": "stream",
     "text": [
      "\n",
      "======= Performance metrics ======= \n",
      "\n",
      "Balanced Accuracy...0.52629\n",
      "Hamming Loss...0.02932\n",
      "Classification report...\n",
      "              precision    recall  f1-score   support\n",
      "\n",
      "           0       0.97      1.00      0.99     77701\n",
      "           1       0.42      0.05      0.10      2299\n",
      "\n",
      "    accuracy                           0.97     80000\n",
      "   macro avg       0.70      0.53      0.54     80000\n",
      "weighted avg       0.96      0.97      0.96     80000\n",
      "\n"
     ]
    }
   ],
   "source": [
    "confusion_mats = {}\n",
    "eval_metrics = {}\n",
    "\n",
    "for method in predictions:\n",
    "\n",
    "    print(\"\\n\\n\")\n",
    "    print(\"*\" * 60)\n",
    "    print(method)\n",
    "    print(\"*\" * 60)\n",
    "    print(\"Remember: '0' = not cancelled, '1' = cancelled\")\n",
    "    print(\"\\n\")\n",
    "\n",
    "    actual = predictions[method][\"Actual Label\"]\n",
    "    predicted = predictions[method][\"Predicited Label\"]\n",
    "\n",
    "    print(\"======= Confusion Matrix ======= \\n\")\n",
    "\n",
    "    cm = pd.crosstab(actual, predicted)\n",
    "    cm[\"Num. Events\"] = cm[0] + cm[1]\n",
    "    cm[\"Prop. Correct\"] = round(cm[0]/(cm[\"Num. Events\"]), 3)\n",
    "    cm[\"Prop. Incorrect\"] = round(cm[1]/(cm[\"Num. Events\"]), 3)\n",
    "    cm.iloc[1,3] = cm.iloc[1,1] / cm.iloc[1,2] # manual fix\n",
    "    cm.iloc[1,4] = cm.iloc[1,0] / cm.iloc[1,2]\n",
    "    confusion_mats[method] = cm\n",
    "    display(cm)\n",
    "\n",
    "    print(\"\\n\")\n",
    "    cm_display = metrics.ConfusionMatrixDisplay(confusion_matrix = metrics.confusion_matrix(actual, predicted),\n",
    "                                                display_labels = [\"0 (Not Cancelled)\", \"1 (Cancelled)\"]\n",
    "                                               )\n",
    "    cm_display.plot()\n",
    "    plt.title(\"Confusion Matrix\\nActual Counts\")\n",
    "    plt.show() \n",
    "\n",
    "    cm_display = metrics.ConfusionMatrixDisplay(confusion_matrix = metrics.confusion_matrix(actual, predicted, normalize = 'all'),\n",
    "                                                display_labels = [\"0 (Not Cancelled)\", \"1 (Cancelled)\"]\n",
    "                                               )\n",
    "    cm_display.plot()\n",
    "    plt.title(\"Confusion Matrix\\nNormalized Over All Events\")\n",
    "    plt.show() \n",
    "\n",
    "    print(\"\\n======= Performance metrics ======= \\n\")\n",
    "    class_report = metrics.classification_report(actual, predicted, output_dict=True)\n",
    "    class_report[\"balanced_accuracy\"] = round(metrics.balanced_accuracy_score(actual, predicted), 5)\n",
    "    class_report[\"hamming_loss\"] = round(metrics.hamming_loss(actual, predicted), 5)\n",
    "    print(\"Balanced Accuracy...\" + str(class_report[\"balanced_accuracy\"]))\n",
    "    # plot hamming loss (aka proportion incorrect) within each class\n",
    "    print(\"Hamming Loss...\" + str(class_report[\"hamming_loss\"]))\n",
    "    print(\"Classification report...\")\n",
    "    print(metrics.classification_report(actual, predicted))\n",
    "    eval_metrics[method] = class_report"
   ]
  },
  {
   "cell_type": "markdown",
   "metadata": {},
   "source": [
    "## 2.2) Compare evaluation metrics across methods\n"
   ]
  },
  {
   "cell_type": "code",
   "execution_count": 138,
   "metadata": {},
   "outputs": [
    {
     "data": {
      "text/html": [
       "<div>\n",
       "<style scoped>\n",
       "    .dataframe tbody tr th:only-of-type {\n",
       "        vertical-align: middle;\n",
       "    }\n",
       "\n",
       "    .dataframe tbody tr th {\n",
       "        vertical-align: top;\n",
       "    }\n",
       "\n",
       "    .dataframe thead th {\n",
       "        text-align: right;\n",
       "    }\n",
       "</style>\n",
       "<table border=\"1\" class=\"dataframe\">\n",
       "  <thead>\n",
       "    <tr style=\"text-align: right;\">\n",
       "      <th>Predicited Label</th>\n",
       "      <th>0</th>\n",
       "      <th>1</th>\n",
       "      <th>Num. Events</th>\n",
       "      <th>Prop. Correct</th>\n",
       "      <th>Prop. Incorrect</th>\n",
       "    </tr>\n",
       "    <tr>\n",
       "      <th>Actual Label</th>\n",
       "      <th></th>\n",
       "      <th></th>\n",
       "      <th></th>\n",
       "      <th></th>\n",
       "      <th></th>\n",
       "    </tr>\n",
       "  </thead>\n",
       "  <tbody>\n",
       "    <tr>\n",
       "      <th>0</th>\n",
       "      <td>77526</td>\n",
       "      <td>175</td>\n",
       "      <td>77701</td>\n",
       "      <td>0.998000</td>\n",
       "      <td>0.002000</td>\n",
       "    </tr>\n",
       "    <tr>\n",
       "      <th>1</th>\n",
       "      <td>2029</td>\n",
       "      <td>270</td>\n",
       "      <td>2299</td>\n",
       "      <td>0.117442</td>\n",
       "      <td>0.882558</td>\n",
       "    </tr>\n",
       "  </tbody>\n",
       "</table>\n",
       "</div>"
      ],
      "text/plain": [
       "Predicited Label      0    1  Num. Events  Prop. Correct  Prop. Incorrect\n",
       "Actual Label                                                             \n",
       "0                 77526  175        77701       0.998000         0.002000\n",
       "1                  2029  270         2299       0.117442         0.882558"
      ]
     },
     "execution_count": 138,
     "metadata": {},
     "output_type": "execute_result"
    }
   ],
   "source": [
    "# plot accuracy within each class across methods\n",
    "confusion_mats[\"RandomForest\"]"
   ]
  }
 ],
 "metadata": {
  "kernelspec": {
   "display_name": "Python 3",
   "language": "python",
   "name": "python3"
  },
  "language_info": {
   "codemirror_mode": {
    "name": "ipython",
    "version": 3
   },
   "file_extension": ".py",
   "mimetype": "text/x-python",
   "name": "python",
   "nbconvert_exporter": "python",
   "pygments_lexer": "ipython3",
   "version": "3.9.1"
  }
 },
 "nbformat": 4,
 "nbformat_minor": 4
}
